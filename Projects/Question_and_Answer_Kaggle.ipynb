{
  "nbformat": 4,
  "nbformat_minor": 0,
  "metadata": {
    "colab": {
      "name": "Question and Answer - Kaggle",
      "provenance": []
    },
    "kernelspec": {
      "name": "python3",
      "display_name": "Python 3"
    }
  },
  "cells": [
    {
      "cell_type": "code",
      "metadata": {
        "id": "SasUWM8DXcDG",
        "colab_type": "code",
        "colab": {
          "base_uri": "https://localhost:8080/",
          "height": 122
        },
        "outputId": "2ee2f4bb-454a-4f37-e320-6389048be5b1"
      },
      "source": [
        "from google.colab import drive\n",
        "drive.mount('/content/drive')"
      ],
      "execution_count": 1,
      "outputs": [
        {
          "output_type": "stream",
          "text": [
            "Go to this URL in a browser: https://accounts.google.com/o/oauth2/auth?client_id=947318989803-6bn6qk8qdgf4n4g3pfee6491hc0brc4i.apps.googleusercontent.com&redirect_uri=urn%3aietf%3awg%3aoauth%3a2.0%3aoob&response_type=code&scope=email%20https%3a%2f%2fwww.googleapis.com%2fauth%2fdocs.test%20https%3a%2f%2fwww.googleapis.com%2fauth%2fdrive%20https%3a%2f%2fwww.googleapis.com%2fauth%2fdrive.photos.readonly%20https%3a%2f%2fwww.googleapis.com%2fauth%2fpeopleapi.readonly\n",
            "\n",
            "Enter your authorization code:\n",
            "··········\n",
            "Mounted at /content/drive\n"
          ],
          "name": "stdout"
        }
      ]
    },
    {
      "cell_type": "code",
      "metadata": {
        "id": "-DRs6pLDXcwN",
        "colab_type": "code",
        "colab": {
          "base_uri": "https://localhost:8080/",
          "height": 63
        },
        "outputId": "aad2eaf7-f7f0-469e-ca44-460ca52be7d2"
      },
      "source": [
        "import numpy as np\n",
        "import pandas as pd\n",
        "import tensorflow as tf\n",
        "from tensorflow.keras.preprocessing.text import Tokenizer\n",
        "from tensorflow.keras.preprocessing.sequence import pad_sequences\n"
      ],
      "execution_count": 2,
      "outputs": [
        {
          "output_type": "display_data",
          "data": {
            "text/html": [
              "<p style=\"color: red;\">\n",
              "The default version of TensorFlow in Colab will soon switch to TensorFlow 2.x.<br>\n",
              "We recommend you <a href=\"https://www.tensorflow.org/guide/migrate\" target=\"_blank\">upgrade</a> now \n",
              "or ensure your notebook will continue to use TensorFlow 1.x via the <code>%tensorflow_version 1.x</code> magic:\n",
              "<a href=\"https://colab.research.google.com/notebooks/tensorflow_version.ipynb\" target=\"_blank\">more info</a>.</p>\n"
            ],
            "text/plain": [
              "<IPython.core.display.HTML object>"
            ]
          },
          "metadata": {
            "tags": []
          }
        }
      ]
    },
    {
      "cell_type": "code",
      "metadata": {
        "id": "QPWW4BUsYCEM",
        "colab_type": "code",
        "colab": {}
      },
      "source": [
        "import csv"
      ],
      "execution_count": 0,
      "outputs": []
    },
    {
      "cell_type": "code",
      "metadata": {
        "id": "-6qncT2CYTAE",
        "colab_type": "code",
        "colab": {}
      },
      "source": [
        "num_sentences = 0\n",
        "questions = []\n",
        "answers = []\n",
        "labels = []\n",
        "with open(\"/content/drive/My Drive/train.csv\") as csvfile:\n",
        "    reader = csv.reader(csvfile, delimiter=',')\n",
        "    next(reader)\n",
        "    for row in reader:\n",
        "        questions.append(row[2]);\n",
        "        answers.append(row[5])\n",
        "        labels.append(row[11:])\n",
        "        num_sentences = num_sentences + 1"
      ],
      "execution_count": 0,
      "outputs": []
    },
    {
      "cell_type": "code",
      "metadata": {
        "id": "wpJ9BagfYWUM",
        "colab_type": "code",
        "colab": {
          "base_uri": "https://localhost:8080/",
          "height": 34
        },
        "outputId": "8b8679f5-a295-4966-db6f-c971a9a5183c"
      },
      "source": [
        "len(questions)"
      ],
      "execution_count": 37,
      "outputs": [
        {
          "output_type": "execute_result",
          "data": {
            "text/plain": [
              "6079"
            ]
          },
          "metadata": {
            "tags": []
          },
          "execution_count": 37
        }
      ]
    },
    {
      "cell_type": "code",
      "metadata": {
        "id": "d5hYTMzgYi0U",
        "colab_type": "code",
        "colab": {
          "base_uri": "https://localhost:8080/",
          "height": 54
        },
        "outputId": "df3d5cc4-eef7-47f9-f7b0-978a9b087f45"
      },
      "source": [
        "new_questions=  []\n",
        "for string1 in questions:\n",
        "  s = \"\"\n",
        "  for e in string1:\n",
        "    if(e.isalnum()):\n",
        "      s+=e\n",
        "    elif(e==' '):\n",
        "      s+=e\n",
        "    elif(e=='.'):\n",
        "      s+=' '\n",
        "  new_questions.append(s)\n",
        "print(s)"
      ],
      "execution_count": 41,
      "outputs": [
        {
          "output_type": "stream",
          "text": [
            "Newbie question Why is it that theres a bazillion different types of screws Why cant we just always use one standard screw type Are there advantagesdisadvantages to the different types Are there times when one type is preferred over anotherHelp me understand why there isnt one screw to rule them all \n"
          ],
          "name": "stdout"
        }
      ]
    },
    {
      "cell_type": "code",
      "metadata": {
        "id": "juRWNcDDy5Um",
        "colab_type": "code",
        "colab": {
          "base_uri": "https://localhost:8080/",
          "height": 54
        },
        "outputId": "4a42c38f-ac43-4ce5-f64e-ca51bccd94e1"
      },
      "source": [
        "new_answers =  []\n",
        "for string1 in answers:\n",
        "  s = \"\"\n",
        "  for e in string1:\n",
        "    if(e.isalnum()):\n",
        "      s+=e\n",
        "    elif(e==' '):\n",
        "      s+=e\n",
        "    elif(e=='.'):\n",
        "      s+=' '\n",
        "  new_answers.append(s)\n",
        "print(s)"
      ],
      "execution_count": 43,
      "outputs": [
        {
          "output_type": "stream",
          "text": [
            "First I really like Erics answer for practical reasons   But there is another side to screw head diversity  Security In the end its usually a temporary measure   Once a company invents a new screw some third party will start selling tools to remove them   But for a time any new screw design means the only people who can open your parts are certified workshops youve given tools to   Personally I see this a lot in electronic equipment where the original manufacturer wants some aspect of design kept private or doesnt want aftermarket mods made to things they sell   Nintendo is particularly active in inventing new screws Examples of security screws include 3prong Torx variants and Allen heads with a raised dot in the middle of the screw head to stop standard Allen wrenches from fitting If youd like to see a much more industrial version find a car which has been booted and look at the bolt   Ive seen circular bolt heads with an offcenter circular hollow inside   No shoulders or slots to grab you have to have a very specific wrench   And of course there are security lug nuts for car tires \n"
          ],
          "name": "stdout"
        }
      ]
    },
    {
      "cell_type": "code",
      "metadata": {
        "id": "4cCLFsBqcWHs",
        "colab_type": "code",
        "colab": {
          "base_uri": "https://localhost:8080/",
          "height": 204
        },
        "outputId": "1c78ff9f-d023-4c85-f965-5e89a934e428"
      },
      "source": [
        "maxx  = 0\n",
        "total = 0\n",
        "for sentence in new_answers:\n",
        "  total = total+len(sentence.split())\n",
        "  if(len(sentence.split())>maxx):\n",
        "    maxx = len(sentence.split())\n",
        "    print(len(sentence.split()))\n",
        "    \n",
        "\n",
        "print(maxx)\n",
        "print(total/6079)"
      ],
      "execution_count": 57,
      "outputs": [
        {
          "output_type": "stream",
          "text": [
            "150\n",
            "183\n",
            "246\n",
            "704\n",
            "755\n",
            "994\n",
            "1133\n",
            "1237\n",
            "2373\n",
            "2373\n",
            "129.7215002467511\n"
          ],
          "name": "stdout"
        }
      ]
    },
    {
      "cell_type": "code",
      "metadata": {
        "id": "yHt3eIkDjvMa",
        "colab_type": "code",
        "colab": {
          "base_uri": "https://localhost:8080/",
          "height": 34
        },
        "outputId": "f842c11f-b88e-4dbc-e69e-85624ea00fad"
      },
      "source": [
        "len(new_questions)"
      ],
      "execution_count": 32,
      "outputs": [
        {
          "output_type": "execute_result",
          "data": {
            "text/plain": [
              "6079"
            ]
          },
          "metadata": {
            "tags": []
          },
          "execution_count": 32
        }
      ]
    },
    {
      "cell_type": "code",
      "metadata": {
        "id": "ES6_33pqcXVj",
        "colab_type": "code",
        "colab": {
          "base_uri": "https://localhost:8080/",
          "height": 34
        },
        "outputId": "d0721729-2eab-4634-f17e-b8f7abdb9d06"
      },
      "source": [
        "string1 = \"hello,! how u doing\"\n",
        "s = \"\"\n",
        "for e in string1:\n",
        "  if(e.isalnum()):\n",
        "    s+=e\n",
        "  elif(e==' '):\n",
        "    s+=e\n",
        "print(s)"
      ],
      "execution_count": 21,
      "outputs": [
        {
          "output_type": "stream",
          "text": [
            "hello how u doing\n"
          ],
          "name": "stdout"
        }
      ]
    },
    {
      "cell_type": "code",
      "metadata": {
        "id": "3ekPJxdQhL7q",
        "colab_type": "code",
        "colab": {
          "base_uri": "https://localhost:8080/",
          "height": 34
        },
        "outputId": "9d983328-d5bf-4ae5-920b-54d3e09508c3"
      },
      "source": [
        "total_sentences = []\n",
        "for question in new_questions:\n",
        "  total_sentences.append(question)\n",
        "for answer in new_answers:\n",
        "  total_sentences.append(answer)\n",
        "len(total_sentences)"
      ],
      "execution_count": 47,
      "outputs": [
        {
          "output_type": "execute_result",
          "data": {
            "text/plain": [
              "12158"
            ]
          },
          "metadata": {
            "tags": []
          },
          "execution_count": 47
        }
      ]
    },
    {
      "cell_type": "code",
      "metadata": {
        "id": "nGkJsh8jzUch",
        "colab_type": "code",
        "colab": {}
      },
      "source": [
        "embedding_dim = 100\n",
        "max_length = 300\n",
        "trunc_type='post'\n",
        "padding_type='post'\n",
        "oov_tok = \"<OOV>\""
      ],
      "execution_count": 0,
      "outputs": []
    },
    {
      "cell_type": "code",
      "metadata": {
        "id": "ro8eGX6L1Art",
        "colab_type": "code",
        "colab": {}
      },
      "source": [
        "tokenizer = Tokenizer(oov_token=oov_tok)\n",
        "tokenizer.fit_on_texts(total_sentences)\n",
        "\n",
        "word_index = tokenizer.word_index\n",
        "vocab_size=len(word_index)"
      ],
      "execution_count": 0,
      "outputs": []
    },
    {
      "cell_type": "code",
      "metadata": {
        "id": "SM4aQG4t1Iwc",
        "colab_type": "code",
        "colab": {
          "base_uri": "https://localhost:8080/",
          "height": 34
        },
        "outputId": "4773892e-52c4-48fb-a6a4-5c5e7842dc1c"
      },
      "source": [
        "print(vocab_size)"
      ],
      "execution_count": 98,
      "outputs": [
        {
          "output_type": "stream",
          "text": [
            "87436\n"
          ],
          "name": "stdout"
        }
      ]
    },
    {
      "cell_type": "code",
      "metadata": {
        "id": "zUFtXR742DlS",
        "colab_type": "code",
        "colab": {}
      },
      "source": [
        "question_sequences = tokenizer.texts_to_sequences(new_questions)\n",
        "question_padded = pad_sequences(question_sequences, maxlen=max_length, padding=padding_type, truncating=trunc_type)\n",
        "\n",
        "answer_sequences = tokenizer.texts_to_sequences(new_answers)\n",
        "answer_padded = pad_sequences(answer_sequences, maxlen=max_length, padding=padding_type, truncating=trunc_type)\n"
      ],
      "execution_count": 0,
      "outputs": []
    },
    {
      "cell_type": "code",
      "metadata": {
        "id": "iX2L-50Y29J4",
        "colab_type": "code",
        "colab": {
          "base_uri": "https://localhost:8080/",
          "height": 34
        },
        "outputId": "e432efcb-8e48-48f3-b88f-f29f543e117c"
      },
      "source": [
        "len(question_sequences)"
      ],
      "execution_count": 87,
      "outputs": [
        {
          "output_type": "execute_result",
          "data": {
            "text/plain": [
              "6079"
            ]
          },
          "metadata": {
            "tags": []
          },
          "execution_count": 87
        }
      ]
    },
    {
      "cell_type": "code",
      "metadata": {
        "id": "FSsRC5hF3AV5",
        "colab_type": "code",
        "colab": {
          "base_uri": "https://localhost:8080/",
          "height": 496
        },
        "outputId": "1015fe11-651c-4cb8-a0b5-b3557159635c"
      },
      "source": [
        "print(len(answer_sequences[1]))\n",
        "print(answer_sequences[1])\n",
        "print(answer_padded[1])"
      ],
      "execution_count": 88,
      "outputs": [
        {
          "output_type": "stream",
          "text": [
            "74\n",
            "[11, 137, 15, 1366, 3, 181, 87, 2, 903, 8, 2931, 54011, 19069, 2931, 2739, 28, 596, 24417, 17, 23204, 1264, 17264, 5502, 5839, 1665, 1131, 89, 4, 14141, 57, 29, 156, 2366, 5124, 11, 188, 4, 1173, 1834, 10, 10176, 35, 37595, 2, 14140, 17, 2931, 2931, 27, 2, 261, 6520, 2339, 35, 5904, 87, 2, 6130, 5648, 4, 972, 1130, 17, 261, 54012, 9058, 4544, 11, 37596, 823, 18, 20, 121, 2931]\n",
            "[   11   137    15  1366     3   181    87     2   903     8  2931 54011\n",
            " 19069  2931  2739    28   596 24417    17 23204  1264 17264  5502  5839\n",
            "  1665  1131    89     4 14141    57    29   156  2366  5124    11   188\n",
            "     4  1173  1834    10 10176    35 37595     2 14140    17  2931  2931\n",
            "    27     2   261  6520  2339    35  5904    87     2  6130  5648     4\n",
            "   972  1130    17   261 54012  9058  4544    11 37596   823    18    20\n",
            "   121  2931     0     0     0     0     0     0     0     0     0     0\n",
            "     0     0     0     0     0     0     0     0     0     0     0     0\n",
            "     0     0     0     0     0     0     0     0     0     0     0     0\n",
            "     0     0     0     0     0     0     0     0     0     0     0     0\n",
            "     0     0     0     0     0     0     0     0     0     0     0     0\n",
            "     0     0     0     0     0     0     0     0     0     0     0     0\n",
            "     0     0     0     0     0     0     0     0     0     0     0     0\n",
            "     0     0     0     0     0     0     0     0     0     0     0     0\n",
            "     0     0     0     0     0     0     0     0     0     0     0     0\n",
            "     0     0     0     0     0     0     0     0     0     0     0     0\n",
            "     0     0     0     0     0     0     0     0     0     0     0     0\n",
            "     0     0     0     0     0     0     0     0     0     0     0     0\n",
            "     0     0     0     0     0     0     0     0     0     0     0     0\n",
            "     0     0     0     0     0     0     0     0     0     0     0     0\n",
            "     0     0     0     0     0     0     0     0     0     0     0     0\n",
            "     0     0     0     0     0     0     0     0     0     0     0     0\n",
            "     0     0     0     0     0     0     0     0     0     0     0     0\n",
            "     0     0     0     0     0     0     0     0     0     0     0     0\n",
            "     0     0     0     0     0     0     0     0     0     0     0     0]\n"
          ],
          "name": "stdout"
        }
      ]
    },
    {
      "cell_type": "code",
      "metadata": {
        "id": "8YtfQaEi3OUh",
        "colab_type": "code",
        "colab": {}
      },
      "source": [
        "question_padded_np_array = np.array(question_padded)\n",
        "answer_padded_np_array = np.array(answer_padded)\n",
        "\n"
      ],
      "execution_count": 0,
      "outputs": []
    },
    {
      "cell_type": "code",
      "metadata": {
        "id": "NZCi7DNQ5DPW",
        "colab_type": "code",
        "colab": {}
      },
      "source": [
        "a = np.array(([[1,2,3],[4,5,6]]))\n",
        "b = np.array([[7,8,9],[3,4,5]])"
      ],
      "execution_count": 0,
      "outputs": []
    },
    {
      "cell_type": "code",
      "metadata": {
        "id": "Nl6t8A2L5VzI",
        "colab_type": "code",
        "colab": {
          "base_uri": "https://localhost:8080/",
          "height": 51
        },
        "outputId": "da62f75e-22e7-4935-a2e7-977393fa3d4c"
      },
      "source": [
        "c = np.append(a,b,axis = 1)\n",
        "print(c)"
      ],
      "execution_count": 91,
      "outputs": [
        {
          "output_type": "stream",
          "text": [
            "[[1 2 3 7 8 9]\n",
            " [4 5 6 3 4 5]]\n"
          ],
          "name": "stdout"
        }
      ]
    },
    {
      "cell_type": "code",
      "metadata": {
        "id": "qepMukyf5eJo",
        "colab_type": "code",
        "colab": {
          "base_uri": "https://localhost:8080/",
          "height": 34
        },
        "outputId": "4f8784b3-2db8-40c7-847a-524ad3654de1"
      },
      "source": [
        "final_x = np.append(question_padded_np_array,answer_padded_np_array,axis = 1)\n",
        "print(final_x.shape)"
      ],
      "execution_count": 92,
      "outputs": [
        {
          "output_type": "stream",
          "text": [
            "(6079, 600)\n"
          ],
          "name": "stdout"
        }
      ]
    },
    {
      "cell_type": "code",
      "metadata": {
        "id": "YUGhhjfJ5zdy",
        "colab_type": "code",
        "colab": {
          "base_uri": "https://localhost:8080/",
          "height": 204
        },
        "outputId": "fbdf4218-d65b-4f62-a954-4d646a5b23b6"
      },
      "source": [
        "!wget --no-check-certificate \\\n",
        "    https://storage.googleapis.com/laurencemoroney-blog.appspot.com/glove.6B.100d.txt \\\n",
        "    -O /tmp/glove.6B.100d.txt\n",
        "embeddings_index = {};\n",
        "with open('/tmp/glove.6B.100d.txt') as f:\n",
        "    for line in f:\n",
        "        values = line.split();\n",
        "        word = values[0];\n",
        "        coefs = np.asarray(values[1:], dtype='float32');\n",
        "        embeddings_index[word] = coefs;\n",
        "\n",
        "embeddings_matrix = np.zeros((vocab_size+1, embedding_dim));\n",
        "for word, i in word_index.items():\n",
        "    embedding_vector = embeddings_index.get(word);\n",
        "    if embedding_vector is not None:\n",
        "        embeddings_matrix[i] = embedding_vector;"
      ],
      "execution_count": 93,
      "outputs": [
        {
          "output_type": "stream",
          "text": [
            "--2019-12-16 09:09:57--  https://storage.googleapis.com/laurencemoroney-blog.appspot.com/glove.6B.100d.txt\n",
            "Resolving storage.googleapis.com (storage.googleapis.com)... 172.217.203.128, 2607:f8b0:400c:c07::80\n",
            "Connecting to storage.googleapis.com (storage.googleapis.com)|172.217.203.128|:443... connected.\n",
            "HTTP request sent, awaiting response... 200 OK\n",
            "Length: 347116733 (331M) [text/plain]\n",
            "Saving to: ‘/tmp/glove.6B.100d.txt’\n",
            "\n",
            "/tmp/glove.6B.100d. 100%[===================>] 331.04M   178MB/s    in 1.9s    \n",
            "\n",
            "2019-12-16 09:09:59 (178 MB/s) - ‘/tmp/glove.6B.100d.txt’ saved [347116733/347116733]\n",
            "\n"
          ],
          "name": "stdout"
        }
      ]
    },
    {
      "cell_type": "code",
      "metadata": {
        "id": "W-0j4gwB6zqA",
        "colab_type": "code",
        "colab": {
          "base_uri": "https://localhost:8080/",
          "height": 34
        },
        "outputId": "f58e2e1f-25b0-4a28-f217-15e6a622f2a9"
      },
      "source": [
        "print((embeddings_matrix).shape)"
      ],
      "execution_count": 94,
      "outputs": [
        {
          "output_type": "stream",
          "text": [
            "(87437, 100)\n"
          ],
          "name": "stdout"
        }
      ]
    },
    {
      "cell_type": "code",
      "metadata": {
        "id": "_bWGGfZE7Qky",
        "colab_type": "code",
        "colab": {
          "base_uri": "https://localhost:8080/",
          "height": 34
        },
        "outputId": "ba50da71-c27b-46c2-978e-0d98072bf06e"
      },
      "source": [
        "labels = np.array(labels)\n",
        "print(labels.shape)"
      ],
      "execution_count": 95,
      "outputs": [
        {
          "output_type": "stream",
          "text": [
            "(6079, 30)\n"
          ],
          "name": "stdout"
        }
      ]
    },
    {
      "cell_type": "code",
      "metadata": {
        "id": "O7Ylsoz169ev",
        "colab_type": "code",
        "colab": {
          "base_uri": "https://localhost:8080/",
          "height": 731
        },
        "outputId": "51f9389f-7cbb-4029-9067-118a00d38d6d"
      },
      "source": [
        "model = tf.keras.Sequential([\n",
        "    tf.keras.layers.Embedding(vocab_size+1, embedding_dim, input_length=2*max_length, weights=[embeddings_matrix], trainable=False),\n",
        "    #tf.keras.layers.Dropout(0.2),\n",
        "    tf.keras.layers.Dense(256,activation='relu'),\n",
        "    tf.keras.layers.Conv1D(64, 5, activation='relu'),\n",
        "    tf.keras.layers.MaxPooling1D(pool_size=4),\n",
        "    tf.keras.layers.LSTM(64),\n",
        "    tf.keras.layers.Dense(30, activation=None)\n",
        "])\n",
        "model.compile(loss='mean_absolute_error',optimizer='adam',metrics=['accuracy'])\n",
        "model.summary()\n",
        "\n",
        "num_epochs = 50\n",
        "history = model.fit(final_x, labels, epochs=10,verbose=1)\n",
        "\n",
        "print(\"Training Complete\")"
      ],
      "execution_count": 102,
      "outputs": [
        {
          "output_type": "stream",
          "text": [
            "Model: \"sequential_7\"\n",
            "_________________________________________________________________\n",
            "Layer (type)                 Output Shape              Param #   \n",
            "=================================================================\n",
            "embedding_7 (Embedding)      (None, 600, 100)          8743700   \n",
            "_________________________________________________________________\n",
            "dense_7 (Dense)              (None, 600, 256)          25856     \n",
            "_________________________________________________________________\n",
            "conv1d_7 (Conv1D)            (None, 596, 64)           81984     \n",
            "_________________________________________________________________\n",
            "max_pooling1d_7 (MaxPooling1 (None, 149, 64)           0         \n",
            "_________________________________________________________________\n",
            "lstm_7 (LSTM)                (None, 64)                33024     \n",
            "_________________________________________________________________\n",
            "dense_8 (Dense)              (None, 30)                1950      \n",
            "=================================================================\n",
            "Total params: 8,886,514\n",
            "Trainable params: 142,814\n",
            "Non-trainable params: 8,743,700\n",
            "_________________________________________________________________\n",
            "Train on 6079 samples\n",
            "Epoch 1/10\n",
            "6079/6079 [==============================] - 87s 14ms/sample - loss: 0.1845 - acc: 0.0283\n",
            "Epoch 2/10\n",
            "6079/6079 [==============================] - 86s 14ms/sample - loss: 0.1554 - acc: 0.0314\n",
            "Epoch 3/10\n",
            "6079/6079 [==============================] - 87s 14ms/sample - loss: 0.1549 - acc: 0.0304\n",
            "Epoch 4/10\n",
            "6079/6079 [==============================] - 87s 14ms/sample - loss: 0.1542 - acc: 0.0309\n",
            "Epoch 5/10\n",
            "6079/6079 [==============================] - 87s 14ms/sample - loss: 0.1536 - acc: 0.0273\n",
            "Epoch 6/10\n",
            "6079/6079 [==============================] - 87s 14ms/sample - loss: 0.1530 - acc: 0.0322\n",
            "Epoch 7/10\n",
            "6079/6079 [==============================] - 87s 14ms/sample - loss: 0.1520 - acc: 0.0339\n",
            "Epoch 8/10\n",
            "6079/6079 [==============================] - 88s 14ms/sample - loss: 0.1485 - acc: 0.0385\n",
            "Epoch 9/10\n",
            "6079/6079 [==============================] - 88s 14ms/sample - loss: 0.1445 - acc: 0.0543\n",
            "Epoch 10/10\n",
            "6079/6079 [==============================] - 88s 14ms/sample - loss: 0.1413 - acc: 0.0489\n",
            "Training Complete\n"
          ],
          "name": "stdout"
        }
      ]
    },
    {
      "cell_type": "code",
      "metadata": {
        "id": "9Z9GI1ei78j0",
        "colab_type": "code",
        "colab": {}
      },
      "source": [
        ""
      ],
      "execution_count": 0,
      "outputs": []
    }
  ]
}