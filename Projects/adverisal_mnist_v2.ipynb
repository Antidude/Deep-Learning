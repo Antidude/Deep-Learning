{
  "nbformat": 4,
  "nbformat_minor": 0,
  "metadata": {
    "colab": {
      "name": "adverisal_mnist_v2",
      "provenance": []
    },
    "kernelspec": {
      "name": "python3",
      "display_name": "Python 3"
    },
    "accelerator": "GPU"
  },
  "cells": [
    {
      "cell_type": "code",
      "metadata": {
        "id": "ly7uOektckSC",
        "colab_type": "code",
        "outputId": "21ffb463-d32f-4b68-d6f0-5a5a7fe32d78",
        "colab": {
          "base_uri": "https://localhost:8080/",
          "height": 670
        }
      },
      "source": [
        "!pip install tensorflow==2.0.0-beta0"
      ],
      "execution_count": 0,
      "outputs": [
        {
          "output_type": "stream",
          "text": [
            "Collecting tensorflow==2.0.0-beta0\n",
            "\u001b[?25l  Downloading https://files.pythonhosted.org/packages/6c/19/0d0c7f240db7bcd6b83783b9a89a67f38584d100e23ad5ae93114be92232/tensorflow-2.0.0b0-cp36-cp36m-manylinux1_x86_64.whl (87.9MB)\n",
            "\u001b[K     |████████████████████████████████| 87.9MB 49kB/s \n",
            "\u001b[?25hRequirement already satisfied: gast>=0.2.0 in /usr/local/lib/python3.6/dist-packages (from tensorflow==2.0.0-beta0) (0.2.2)\n",
            "Requirement already satisfied: keras-preprocessing>=1.0.5 in /usr/local/lib/python3.6/dist-packages (from tensorflow==2.0.0-beta0) (1.1.0)\n",
            "Requirement already satisfied: numpy<2.0,>=1.14.5 in /usr/local/lib/python3.6/dist-packages (from tensorflow==2.0.0-beta0) (1.17.5)\n",
            "Requirement already satisfied: astor>=0.6.0 in /usr/local/lib/python3.6/dist-packages (from tensorflow==2.0.0-beta0) (0.8.1)\n",
            "Requirement already satisfied: termcolor>=1.1.0 in /usr/local/lib/python3.6/dist-packages (from tensorflow==2.0.0-beta0) (1.1.0)\n",
            "Requirement already satisfied: grpcio>=1.8.6 in /usr/local/lib/python3.6/dist-packages (from tensorflow==2.0.0-beta0) (1.15.0)\n",
            "Requirement already satisfied: wheel>=0.26 in /usr/local/lib/python3.6/dist-packages (from tensorflow==2.0.0-beta0) (0.34.2)\n",
            "Requirement already satisfied: google-pasta>=0.1.6 in /usr/local/lib/python3.6/dist-packages (from tensorflow==2.0.0-beta0) (0.1.8)\n",
            "Requirement already satisfied: protobuf>=3.6.1 in /usr/local/lib/python3.6/dist-packages (from tensorflow==2.0.0-beta0) (3.10.0)\n",
            "Requirement already satisfied: keras-applications>=1.0.6 in /usr/local/lib/python3.6/dist-packages (from tensorflow==2.0.0-beta0) (1.0.8)\n",
            "Requirement already satisfied: six>=1.10.0 in /usr/local/lib/python3.6/dist-packages (from tensorflow==2.0.0-beta0) (1.12.0)\n",
            "Requirement already satisfied: absl-py>=0.7.0 in /usr/local/lib/python3.6/dist-packages (from tensorflow==2.0.0-beta0) (0.9.0)\n",
            "Collecting tb-nightly<1.14.0a20190604,>=1.14.0a20190603\n",
            "\u001b[?25l  Downloading https://files.pythonhosted.org/packages/a4/96/571b875cd81dda9d5dfa1422a4f9d749e67c0a8d4f4f0b33a4e5f5f35e27/tb_nightly-1.14.0a20190603-py3-none-any.whl (3.1MB)\n",
            "\u001b[K     |████████████████████████████████| 3.1MB 37.2MB/s \n",
            "\u001b[?25hCollecting tf-estimator-nightly<1.14.0.dev2019060502,>=1.14.0.dev2019060501\n",
            "\u001b[?25l  Downloading https://files.pythonhosted.org/packages/32/dd/99c47dd007dcf10d63fd895611b063732646f23059c618a373e85019eb0e/tf_estimator_nightly-1.14.0.dev2019060501-py2.py3-none-any.whl (496kB)\n",
            "\u001b[K     |████████████████████████████████| 501kB 40.1MB/s \n",
            "\u001b[?25hRequirement already satisfied: wrapt>=1.11.1 in /usr/local/lib/python3.6/dist-packages (from tensorflow==2.0.0-beta0) (1.11.2)\n",
            "Requirement already satisfied: setuptools in /usr/local/lib/python3.6/dist-packages (from protobuf>=3.6.1->tensorflow==2.0.0-beta0) (45.1.0)\n",
            "Requirement already satisfied: h5py in /usr/local/lib/python3.6/dist-packages (from keras-applications>=1.0.6->tensorflow==2.0.0-beta0) (2.8.0)\n",
            "Requirement already satisfied: markdown>=2.6.8 in /usr/local/lib/python3.6/dist-packages (from tb-nightly<1.14.0a20190604,>=1.14.0a20190603->tensorflow==2.0.0-beta0) (3.1.1)\n",
            "Requirement already satisfied: werkzeug>=0.11.15 in /usr/local/lib/python3.6/dist-packages (from tb-nightly<1.14.0a20190604,>=1.14.0a20190603->tensorflow==2.0.0-beta0) (0.16.1)\n",
            "Installing collected packages: tb-nightly, tf-estimator-nightly, tensorflow\n",
            "  Found existing installation: tensorflow 1.15.0\n",
            "    Uninstalling tensorflow-1.15.0:\n",
            "      Successfully uninstalled tensorflow-1.15.0\n",
            "Successfully installed tb-nightly-1.14.0a20190603 tensorflow-2.0.0b0 tf-estimator-nightly-1.14.0.dev2019060501\n"
          ],
          "name": "stdout"
        },
        {
          "output_type": "display_data",
          "data": {
            "application/vnd.colab-display-data+json": {
              "pip_warning": {
                "packages": [
                  "tensorboard",
                  "tensorflow",
                  "tensorflow_estimator"
                ]
              }
            }
          },
          "metadata": {
            "tags": []
          }
        }
      ]
    },
    {
      "cell_type": "code",
      "metadata": {
        "id": "wPpZxrOEcs7J",
        "colab_type": "code",
        "outputId": "7fe9ce44-6a27-4912-fa2f-ad24bcb88b39",
        "colab": {
          "base_uri": "https://localhost:8080/",
          "height": 474
        }
      },
      "source": [
        "import tensorflow as tf\n",
        "import numpy as np\n",
        "from tensorflow import keras\n",
        "import csv\n",
        "import matplotlib.pyplot as plt"
      ],
      "execution_count": 0,
      "outputs": [
        {
          "output_type": "stream",
          "text": [
            "/usr/local/lib/python3.6/dist-packages/tensorflow/python/framework/dtypes.py:516: FutureWarning: Passing (type, 1) or '1type' as a synonym of type is deprecated; in a future version of numpy, it will be understood as (type, (1,)) / '(1,)type'.\n",
            "  _np_qint8 = np.dtype([(\"qint8\", np.int8, 1)])\n",
            "/usr/local/lib/python3.6/dist-packages/tensorflow/python/framework/dtypes.py:517: FutureWarning: Passing (type, 1) or '1type' as a synonym of type is deprecated; in a future version of numpy, it will be understood as (type, (1,)) / '(1,)type'.\n",
            "  _np_quint8 = np.dtype([(\"quint8\", np.uint8, 1)])\n",
            "/usr/local/lib/python3.6/dist-packages/tensorflow/python/framework/dtypes.py:518: FutureWarning: Passing (type, 1) or '1type' as a synonym of type is deprecated; in a future version of numpy, it will be understood as (type, (1,)) / '(1,)type'.\n",
            "  _np_qint16 = np.dtype([(\"qint16\", np.int16, 1)])\n",
            "/usr/local/lib/python3.6/dist-packages/tensorflow/python/framework/dtypes.py:519: FutureWarning: Passing (type, 1) or '1type' as a synonym of type is deprecated; in a future version of numpy, it will be understood as (type, (1,)) / '(1,)type'.\n",
            "  _np_quint16 = np.dtype([(\"quint16\", np.uint16, 1)])\n",
            "/usr/local/lib/python3.6/dist-packages/tensorflow/python/framework/dtypes.py:520: FutureWarning: Passing (type, 1) or '1type' as a synonym of type is deprecated; in a future version of numpy, it will be understood as (type, (1,)) / '(1,)type'.\n",
            "  _np_qint32 = np.dtype([(\"qint32\", np.int32, 1)])\n",
            "/usr/local/lib/python3.6/dist-packages/tensorflow/python/framework/dtypes.py:525: FutureWarning: Passing (type, 1) or '1type' as a synonym of type is deprecated; in a future version of numpy, it will be understood as (type, (1,)) / '(1,)type'.\n",
            "  np_resource = np.dtype([(\"resource\", np.ubyte, 1)])\n",
            "/usr/local/lib/python3.6/dist-packages/tensorboard/compat/tensorflow_stub/dtypes.py:541: FutureWarning: Passing (type, 1) or '1type' as a synonym of type is deprecated; in a future version of numpy, it will be understood as (type, (1,)) / '(1,)type'.\n",
            "  _np_qint8 = np.dtype([(\"qint8\", np.int8, 1)])\n",
            "/usr/local/lib/python3.6/dist-packages/tensorboard/compat/tensorflow_stub/dtypes.py:542: FutureWarning: Passing (type, 1) or '1type' as a synonym of type is deprecated; in a future version of numpy, it will be understood as (type, (1,)) / '(1,)type'.\n",
            "  _np_quint8 = np.dtype([(\"quint8\", np.uint8, 1)])\n",
            "/usr/local/lib/python3.6/dist-packages/tensorboard/compat/tensorflow_stub/dtypes.py:543: FutureWarning: Passing (type, 1) or '1type' as a synonym of type is deprecated; in a future version of numpy, it will be understood as (type, (1,)) / '(1,)type'.\n",
            "  _np_qint16 = np.dtype([(\"qint16\", np.int16, 1)])\n",
            "/usr/local/lib/python3.6/dist-packages/tensorboard/compat/tensorflow_stub/dtypes.py:544: FutureWarning: Passing (type, 1) or '1type' as a synonym of type is deprecated; in a future version of numpy, it will be understood as (type, (1,)) / '(1,)type'.\n",
            "  _np_quint16 = np.dtype([(\"quint16\", np.uint16, 1)])\n",
            "/usr/local/lib/python3.6/dist-packages/tensorboard/compat/tensorflow_stub/dtypes.py:545: FutureWarning: Passing (type, 1) or '1type' as a synonym of type is deprecated; in a future version of numpy, it will be understood as (type, (1,)) / '(1,)type'.\n",
            "  _np_qint32 = np.dtype([(\"qint32\", np.int32, 1)])\n",
            "/usr/local/lib/python3.6/dist-packages/tensorboard/compat/tensorflow_stub/dtypes.py:550: FutureWarning: Passing (type, 1) or '1type' as a synonym of type is deprecated; in a future version of numpy, it will be understood as (type, (1,)) / '(1,)type'.\n",
            "  np_resource = np.dtype([(\"resource\", np.ubyte, 1)])\n"
          ],
          "name": "stderr"
        }
      ]
    },
    {
      "cell_type": "code",
      "metadata": {
        "id": "REs8ShS4dif5",
        "colab_type": "code",
        "outputId": "9bd0aeb5-2310-4d13-b92b-10d0de8af4e7",
        "colab": {
          "base_uri": "https://localhost:8080/",
          "height": 128
        }
      },
      "source": [
        "from google.colab import drive\n",
        "drive.mount('/content/drive')"
      ],
      "execution_count": 0,
      "outputs": [
        {
          "output_type": "stream",
          "text": [
            "Go to this URL in a browser: https://accounts.google.com/o/oauth2/auth?client_id=947318989803-6bn6qk8qdgf4n4g3pfee6491hc0brc4i.apps.googleusercontent.com&redirect_uri=urn%3aietf%3awg%3aoauth%3a2.0%3aoob&response_type=code&scope=email%20https%3a%2f%2fwww.googleapis.com%2fauth%2fdocs.test%20https%3a%2f%2fwww.googleapis.com%2fauth%2fdrive%20https%3a%2f%2fwww.googleapis.com%2fauth%2fdrive.photos.readonly%20https%3a%2f%2fwww.googleapis.com%2fauth%2fpeopleapi.readonly\n",
            "\n",
            "Enter your authorization code:\n",
            "··········\n",
            "Mounted at /content/drive\n"
          ],
          "name": "stdout"
        }
      ]
    },
    {
      "cell_type": "code",
      "metadata": {
        "id": "0o7BgbqydIZ4",
        "colab_type": "code",
        "outputId": "97ffb799-13b5-4df8-a81f-38334cd55afc",
        "colab": {
          "base_uri": "https://localhost:8080/",
          "height": 54
        }
      },
      "source": [
        "images = []\n",
        "labels = []\n",
        "with open(\"/content/drive/My Drive/AI content/datasets/mnist/train.csv\", 'r') as csvfile:\n",
        "    reader = csv.reader(csvfile, delimiter=',')\n",
        "    next(reader)\n",
        "    for row in reader:\n",
        "      # if(int(row[0])==0 or int(row[0])==1):\n",
        "        labels.append(int(row[0]))\n",
        "        image = []\n",
        "        for i in range(1,785):\n",
        "          image.append(int(row[i]))\n",
        "        images.append(image)\n",
        "\n",
        "\n",
        "print(len(image))\n",
        "print(len(labels))"
      ],
      "execution_count": 0,
      "outputs": [
        {
          "output_type": "stream",
          "text": [
            "784\n",
            "42000\n"
          ],
          "name": "stdout"
        }
      ]
    },
    {
      "cell_type": "code",
      "metadata": {
        "id": "sAVsniXueUlP",
        "colab_type": "code",
        "outputId": "7781df88-35d8-449a-cfd2-6a2e4099ffe4",
        "colab": {
          "base_uri": "https://localhost:8080/",
          "height": 35
        }
      },
      "source": [
        "X = np.array(images)\n",
        "Y = np.array(labels)\n",
        "print(X[10][20])\n"
      ],
      "execution_count": 0,
      "outputs": [
        {
          "output_type": "stream",
          "text": [
            "0\n"
          ],
          "name": "stdout"
        }
      ]
    },
    {
      "cell_type": "code",
      "metadata": {
        "id": "ucBjRjaOe2Y6",
        "colab_type": "code",
        "outputId": "7c71ae69-6a21-4f3c-b1cd-737c670a161f",
        "colab": {
          "base_uri": "https://localhost:8080/",
          "height": 54
        }
      },
      "source": [
        "print(X.shape)\n",
        "print(Y.shape)"
      ],
      "execution_count": 0,
      "outputs": [
        {
          "output_type": "stream",
          "text": [
            "(42000, 784)\n",
            "(42000,)\n"
          ],
          "name": "stdout"
        }
      ]
    },
    {
      "cell_type": "code",
      "metadata": {
        "id": "-NjBX992e5Px",
        "colab_type": "code",
        "colab": {}
      },
      "source": [
        "X_train = X[:30000]\n",
        "Y_train = Y[:30000]\n"
      ],
      "execution_count": 0,
      "outputs": []
    },
    {
      "cell_type": "code",
      "metadata": {
        "id": "0W2O8UstlWPe",
        "colab_type": "code",
        "outputId": "fa156085-4963-4158-a3b6-42da3029b1c8",
        "colab": {
          "base_uri": "https://localhost:8080/",
          "height": 35
        }
      },
      "source": [
        "print(X_train.shape)\n",
        "X_train = X_train/255"
      ],
      "execution_count": 0,
      "outputs": [
        {
          "output_type": "stream",
          "text": [
            "(30000, 784)\n"
          ],
          "name": "stdout"
        }
      ]
    },
    {
      "cell_type": "code",
      "metadata": {
        "id": "UcPFWXsmfSzx",
        "colab_type": "code",
        "outputId": "7736b4ba-bb11-45e9-b3be-da0ed94a4d03",
        "colab": {
          "base_uri": "https://localhost:8080/",
          "height": 635
        }
      },
      "source": [
        "model = tf.keras.Sequential([      #tf.keras.layers.BatchNormalization(input_shape = (None,784)),\n",
        "                                   tf.keras.layers.Dense(20,input_shape = (784,),activation  = 'relu'),\n",
        "                                   tf.keras.layers.Dense(10,activation = 'softmax',input_shape = (784,))\n",
        "])\n",
        "model.compile(optimizer='adam',\n",
        "            loss='sparse_categorical_crossentropy',\n",
        "            metrics=['accuracy'])\n",
        "model.summary()\n",
        "model.fit(X_train,Y_train,32,10,1,None,0.1,shuffle=True)"
      ],
      "execution_count": 0,
      "outputs": [
        {
          "output_type": "stream",
          "text": [
            "Model: \"sequential_6\"\n",
            "_________________________________________________________________\n",
            "Layer (type)                 Output Shape              Param #   \n",
            "=================================================================\n",
            "dense_12 (Dense)             (None, 20)                15700     \n",
            "_________________________________________________________________\n",
            "dense_13 (Dense)             (None, 10)                210       \n",
            "=================================================================\n",
            "Total params: 15,910\n",
            "Trainable params: 15,910\n",
            "Non-trainable params: 0\n",
            "_________________________________________________________________\n",
            "Train on 27000 samples, validate on 3000 samples\n",
            "Epoch 1/10\n",
            "27000/27000 [==============================] - 2s 65us/sample - loss: 0.5677 - accuracy: 0.8404 - val_loss: 0.3277 - val_accuracy: 0.9027\n",
            "Epoch 2/10\n",
            "27000/27000 [==============================] - 2s 60us/sample - loss: 0.2799 - accuracy: 0.9210 - val_loss: 0.2821 - val_accuracy: 0.9183\n",
            "Epoch 3/10\n",
            "27000/27000 [==============================] - 2s 58us/sample - loss: 0.2346 - accuracy: 0.9326 - val_loss: 0.2562 - val_accuracy: 0.9257\n",
            "Epoch 4/10\n",
            "27000/27000 [==============================] - 2s 59us/sample - loss: 0.2081 - accuracy: 0.9407 - val_loss: 0.2354 - val_accuracy: 0.9297\n",
            "Epoch 5/10\n",
            "27000/27000 [==============================] - 2s 59us/sample - loss: 0.1877 - accuracy: 0.9468 - val_loss: 0.2329 - val_accuracy: 0.9323\n",
            "Epoch 6/10\n",
            "27000/27000 [==============================] - 2s 60us/sample - loss: 0.1703 - accuracy: 0.9525 - val_loss: 0.2268 - val_accuracy: 0.9340\n",
            "Epoch 7/10\n",
            "27000/27000 [==============================] - 2s 60us/sample - loss: 0.1572 - accuracy: 0.9553 - val_loss: 0.2153 - val_accuracy: 0.9377\n",
            "Epoch 8/10\n",
            "27000/27000 [==============================] - 2s 59us/sample - loss: 0.1462 - accuracy: 0.9578 - val_loss: 0.2040 - val_accuracy: 0.9410\n",
            "Epoch 9/10\n",
            "27000/27000 [==============================] - 2s 60us/sample - loss: 0.1360 - accuracy: 0.9615 - val_loss: 0.2070 - val_accuracy: 0.9420\n",
            "Epoch 10/10\n",
            "27000/27000 [==============================] - 2s 61us/sample - loss: 0.1272 - accuracy: 0.9639 - val_loss: 0.1938 - val_accuracy: 0.9447\n"
          ],
          "name": "stdout"
        },
        {
          "output_type": "execute_result",
          "data": {
            "text/plain": [
              "<tensorflow.python.keras.callbacks.History at 0x7fdcf47d33c8>"
            ]
          },
          "metadata": {
            "tags": []
          },
          "execution_count": 199
        }
      ]
    },
    {
      "cell_type": "code",
      "metadata": {
        "id": "tD2xBggThmoZ",
        "colab_type": "code",
        "outputId": "4e58227c-4caa-47a2-86e9-4b3e541e0774",
        "colab": {
          "base_uri": "https://localhost:8080/",
          "height": 283
        }
      },
      "source": [
        "Z = X_train\n",
        "i = np.random.randint(10,30000)\n",
        "T = np.expand_dims(Z[i],axis = -1)\n",
        "ans = model.predict(T.T)\n",
        "print(np.argmax(ans))\n",
        "img = np.reshape(Z[i],(28,28))\n",
        "imgplot = plt.imshow(img)"
      ],
      "execution_count": 0,
      "outputs": [
        {
          "output_type": "stream",
          "text": [
            "0\n"
          ],
          "name": "stdout"
        },
        {
          "output_type": "display_data",
          "data": {
            "image/png": "[encoded data removed]",
            "text/plain": [
              "<Figure size 432x288 with 1 Axes>"
            ]
          },
          "metadata": {
            "tags": []
          }
        }
      ]
    },
    {
      "cell_type": "markdown",
      "metadata": {
        "id": "mZMOWmJlfscH",
        "colab_type": "text"
      },
      "source": [
        "# **Method 1 by moving according to the weights of the matrix**"
      ]
    },
    {
      "cell_type": "code",
      "metadata": {
        "id": "arVOGGYRFtHj",
        "colab_type": "code",
        "colab": {}
      },
      "source": [
        "weights = model.get_weights()\n",
        "weights = np.array(weights)\n",
        "layer1_weights = weights[0]\n",
        "layer2_weights = weights[2]\n",
        "node_0_weights = layer2_weights[:,3]\n",
        "# print(node_0_weights)\n",
        "max_node_layer_1_output = np.argsort(node_0_weights)[4*node_0_weights.shape[0]//5:]\n",
        "node_0_least_weights = np.argsort(node_0_weights)[:node_0_weights.shape[0]//5]\n",
        "# print(node_0_weights[max_node_layer_1_output])\n",
        "max_inputs = []\n",
        "min_inputs = []\n",
        "for i in range(len(max_node_layer_1_output)):\n",
        "  node_i_layer_0_weights = layer1_weights[:,max_node_layer_1_output[i]]\n",
        "  node_i_layer_0_min_weights = layer1_weights[:,node_0_least_weights[i]]\n",
        "  # print(node_i_layer_0_weights)\n",
        "  corresponding_top_weights = np.argsort(node_i_layer_0_weights)[49*node_i_layer_0_weights.shape[0]//50:]\n",
        "  corresponding_low_weights = np.argsort(node_i_layer_0_min_weights)[49*node_i_layer_0_min_weights.shape[0]//50:]\n",
        "  # print(node_i_layer_0_weights[corresponding_top_weights])\n",
        "  max_inputs.append(corresponding_top_weights)\n",
        "  min_inputs.append(corresponding_low_weights)\n",
        "  # print(len(max_inputs))"
      ],
      "execution_count": 0,
      "outputs": []
    },
    {
      "cell_type": "code",
      "metadata": {
        "id": "Ry3_2s-g4zH5",
        "colab_type": "code",
        "outputId": "d38b9f86-3db6-4a6f-ca65-31ad0dddf932",
        "colab": {
          "base_uri": "https://localhost:8080/",
          "height": 54
        }
      },
      "source": [
        "max_inputs = np.array(max_inputs)\n",
        "min_inputs = np.array(min_inputs)\n",
        "print(max_inputs.shape)\n",
        "print(min_inputs.shape)"
      ],
      "execution_count": 0,
      "outputs": [
        {
          "output_type": "stream",
          "text": [
            "(4, 16)\n",
            "(4, 16)\n"
          ],
          "name": "stdout"
        }
      ]
    },
    {
      "cell_type": "code",
      "metadata": {
        "id": "FgpI01nvOH59",
        "colab_type": "code",
        "outputId": "0daee199-02a0-4042-bc89-c028eb1283df",
        "colab": {
          "base_uri": "https://localhost:8080/",
          "height": 283
        }
      },
      "source": [
        "j = np.random.randint(20,7500)\n",
        "for t in range(j,7500):\n",
        "  j =t\n",
        "  if(Y_train[t]!=2):\n",
        "    break\n",
        "  \n",
        "Z = np.copy(X_train[j])\n",
        "\n",
        "Z[max_inputs[:,-10:]] = 1\n",
        "# Z[min_inputs[:,:8]] = 0\n",
        "T = np.expand_dims(Z,axis = -1)\n",
        "ans = model.predict(T.T)\n",
        "print(np.argmax(ans))\n",
        "img = np.reshape(Z,(28,28))\n",
        "imgplot = plt.imshow(img)"
      ],
      "execution_count": 0,
      "outputs": [
        {
          "output_type": "stream",
          "text": [
            "3\n"
          ],
          "name": "stdout"
        },
        {
          "output_type": "display_data",
          "data": {
            "image/png": "[encoded data removed]",
            "text/plain": [
              "<Figure size 432x288 with 1 Axes>"
            ]
          },
          "metadata": {
            "tags": []
          }
        }
      ]
    },
    {
      "cell_type": "code",
      "metadata": {
        "id": "8ZqantO0WwQx",
        "colab_type": "code",
        "outputId": "cf9dc513-0552-4253-9353-9e66b0e79002",
        "colab": {
          "base_uri": "https://localhost:8080/",
          "height": 635
        }
      },
      "source": [
        "model1 = tf.keras.Sequential([      #tf.keras.layers.BatchNormalization(input_shape = (None,784)),\n",
        "                                   tf.keras.layers.Dense(25,input_shape = (784,),activation  = 'relu'),\n",
        "                                   tf.keras.layers.Dense(10,activation = 'softmax',input_shape = (784,))\n",
        "])\n",
        "model1.compile(optimizer='adam',\n",
        "            loss='sparse_categorical_crossentropy',\n",
        "            metrics=['accuracy'])\n",
        "model1.summary()\n",
        "model1.fit(X_train,Y_train,32,10,1,None,0.1,shuffle=True)"
      ],
      "execution_count": 0,
      "outputs": [
        {
          "output_type": "stream",
          "text": [
            "Model: \"sequential_7\"\n",
            "_________________________________________________________________\n",
            "Layer (type)                 Output Shape              Param #   \n",
            "=================================================================\n",
            "dense_14 (Dense)             (None, 25)                19625     \n",
            "_________________________________________________________________\n",
            "dense_15 (Dense)             (None, 10)                260       \n",
            "=================================================================\n",
            "Total params: 19,885\n",
            "Trainable params: 19,885\n",
            "Non-trainable params: 0\n",
            "_________________________________________________________________\n",
            "Train on 27000 samples, validate on 3000 samples\n",
            "Epoch 1/10\n",
            "27000/27000 [==============================] - 2s 70us/sample - loss: 0.4836 - accuracy: 0.8650 - val_loss: 0.2901 - val_accuracy: 0.9193\n",
            "Epoch 2/10\n",
            "27000/27000 [==============================] - 2s 66us/sample - loss: 0.2447 - accuracy: 0.9269 - val_loss: 0.2391 - val_accuracy: 0.9323\n",
            "Epoch 3/10\n",
            "27000/27000 [==============================] - 2s 66us/sample - loss: 0.2012 - accuracy: 0.9401 - val_loss: 0.2201 - val_accuracy: 0.9373\n",
            "Epoch 4/10\n",
            "27000/27000 [==============================] - 2s 65us/sample - loss: 0.1745 - accuracy: 0.9477 - val_loss: 0.2021 - val_accuracy: 0.9413\n",
            "Epoch 5/10\n",
            "27000/27000 [==============================] - 2s 66us/sample - loss: 0.1543 - accuracy: 0.9539 - val_loss: 0.2000 - val_accuracy: 0.9427\n",
            "Epoch 6/10\n",
            "27000/27000 [==============================] - 2s 67us/sample - loss: 0.1382 - accuracy: 0.9590 - val_loss: 0.1972 - val_accuracy: 0.9417\n",
            "Epoch 7/10\n",
            "27000/27000 [==============================] - 2s 65us/sample - loss: 0.1247 - accuracy: 0.9634 - val_loss: 0.2047 - val_accuracy: 0.9420\n",
            "Epoch 8/10\n",
            "27000/27000 [==============================] - 2s 67us/sample - loss: 0.1143 - accuracy: 0.9652 - val_loss: 0.1858 - val_accuracy: 0.9467\n",
            "Epoch 9/10\n",
            "27000/27000 [==============================] - 2s 66us/sample - loss: 0.1052 - accuracy: 0.9687 - val_loss: 0.1786 - val_accuracy: 0.9473\n",
            "Epoch 10/10\n",
            "27000/27000 [==============================] - 2s 66us/sample - loss: 0.0959 - accuracy: 0.9710 - val_loss: 0.1767 - val_accuracy: 0.9463\n"
          ],
          "name": "stdout"
        },
        {
          "output_type": "execute_result",
          "data": {
            "text/plain": [
              "<tensorflow.python.keras.callbacks.History at 0x7fdcf2d60588>"
            ]
          },
          "metadata": {
            "tags": []
          },
          "execution_count": 319
        }
      ]
    },
    {
      "cell_type": "markdown",
      "metadata": {
        "id": "YCmX0fmTgB5H",
        "colab_type": "text"
      },
      "source": [
        "# **Method- 2 by moving according to the effects of changing the pixel value by little amount and see changes in outputs**"
      ]
    },
    {
      "cell_type": "code",
      "metadata": {
        "id": "9g6dlBNGf8-o",
        "colab_type": "code",
        "colab": {}
      },
      "source": [
        ""
      ],
      "execution_count": 0,
      "outputs": []
    },
    {
      "cell_type": "code",
      "metadata": {
        "id": "vEn_rMSNY6m4",
        "colab_type": "code",
        "outputId": "777f5a4b-4af5-4a1f-ec97-f6b4f737b702",
        "colab": {
          "base_uri": "https://localhost:8080/",
          "height": 54
        }
      },
      "source": [
        "\n",
        "j = np.random.randint(0,3000)\n",
        "print(j)\n",
        "X_train = X[:30000]\n",
        "Y_train = Y[:30000]\n",
        "X_train = X_train/255\n",
        "increase_values = []\n",
        "Z = np.copy(X_train[j])\n",
        "T = np.expand_dims(Z,axis = -1)\n",
        "# print(T.shape)\n",
        "T = T.T\n",
        "# print(T.shape)\n",
        "actual_ans = model.predict(T)\n",
        "Z = T\n",
        "value = []\n",
        "l = 7\n",
        "# print(actual_ans)\n",
        "# k = np.random.randint(0,784)\n",
        "# l = np.random.randint(0,9)\n",
        "# print(Z[0,k])\n",
        "# print(k)\n",
        "print(l)\n",
        "for i in range(784):\n",
        "  Z[0][i] = Z[0][i]+.1\n",
        "  temp_ans = model.predict(Z)\n",
        "  increase_values.append(temp_ans[0][l]-actual_ans[0][l])\n",
        "  Z[0][i] = Z[0][i]-.1"
      ],
      "execution_count": 0,
      "outputs": [
        {
          "output_type": "stream",
          "text": [
            "2628\n",
            "7\n"
          ],
          "name": "stdout"
        }
      ]
    },
    {
      "cell_type": "code",
      "metadata": {
        "id": "VkDGwyrDUXXi",
        "colab_type": "code",
        "outputId": "f74070cd-752a-4fb8-a998-aaa17f91a274",
        "colab": {
          "base_uri": "https://localhost:8080/",
          "height": 35
        }
      },
      "source": [
        "val = np.argsort(increase_values)\n",
        "print(increase_values[0:10])"
      ],
      "execution_count": 0,
      "outputs": [
        {
          "output_type": "stream",
          "text": [
            "[6.3005245e-10, 3.22716e-08, 2.7072929e-08, -2.0812422e-08, 6.018604e-08, -3.1675654e-08, 4.407184e-08, 3.2586286e-08, -5.8635123e-08, -5.7403668e-08]\n"
          ],
          "name": "stdout"
        }
      ]
    },
    {
      "cell_type": "code",
      "metadata": {
        "id": "Ii1DSVMWUqpy",
        "colab_type": "code",
        "outputId": "e925ba4f-fd2d-4fc4-a7f8-e42a9c63982c",
        "colab": {
          "base_uri": "https://localhost:8080/",
          "height": 199
        }
      },
      "source": [
        "for i in range(10):\n",
        "  print(increase_values[val[-i-1]])"
      ],
      "execution_count": 0,
      "outputs": [
        {
          "output_type": "stream",
          "text": [
            "8.990821e-07\n",
            "8.237005e-07\n",
            "6.917719e-07\n",
            "6.868038e-07\n",
            "6.7218593e-07\n",
            "6.7042924e-07\n",
            "5.8746195e-07\n",
            "5.751044e-07\n",
            "5.696463e-07\n",
            "5.674501e-07\n"
          ],
          "name": "stdout"
        }
      ]
    },
    {
      "cell_type": "code",
      "metadata": {
        "id": "IqRERpNWWDrJ",
        "colab_type": "code",
        "outputId": "161677e1-f2cf-465e-9543-ac1480eae2e6",
        "colab": {
          "base_uri": "https://localhost:8080/",
          "height": 283
        }
      },
      "source": [
        "\n",
        "L = np.copy(X_train[j])\n",
        "j = np.random.randint(20,7900)\n",
        "for t in range(j,8000):\n",
        "  j =t\n",
        "  if(Y_train[t]!=4):\n",
        "    break\n",
        "for k in range(20):\n",
        "  L[val[783-k]] = 1\n",
        "  # L[val[k]] = 0\n",
        "\n",
        "U = np.expand_dims(L,axis = -1)\n",
        "ans = model.predict(U.T)\n",
        "print(np.argmax(ans))\n",
        "img = np.reshape(L,(28,28))\n",
        "imgplot = plt.imshow(img)"
      ],
      "execution_count": 0,
      "outputs": [
        {
          "output_type": "stream",
          "text": [
            "7\n"
          ],
          "name": "stdout"
        },
        {
          "output_type": "display_data",
          "data": {
            "image/png": "[encoded data removed]",
            "text/plain": [
              "<Figure size 432x288 with 1 Axes>"
            ]
          },
          "metadata": {
            "tags": []
          }
        }
      ]
    },
    {
      "cell_type": "code",
      "metadata": {
        "id": "kKLGnboIY-2j",
        "colab_type": "code",
        "colab": {}
      },
      "source": [
        ""
      ],
      "execution_count": 0,
      "outputs": []
    }
  ]
}