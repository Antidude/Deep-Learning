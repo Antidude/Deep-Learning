{
  "nbformat": 4,
  "nbformat_minor": 0,
  "metadata": {
    "colab": {
      "name": "Question and Answer - Kaggle",
      "provenance": [],
      "include_colab_link": true
    },
    "kernelspec": {
      "name": "python3",
      "display_name": "Python 3"
    },
    "accelerator": "GPU"
  },
  "cells": [
    {
      "cell_type": "markdown",
      "metadata": {
        "id": "view-in-github",
        "colab_type": "text"
      },
      "source": [
        "<a href=\"https://colab.research.google.com/github/DL-POWER/Deep-Learning/blob/master/projects/Question_and_Answer_Kaggle_v2.ipynb\" target=\"_parent\"><img src=\"https://colab.research.google.com/assets/colab-badge.svg\" alt=\"Open In Colab\"/></a>"
      ]
    },
    {
      "cell_type": "code",
      "metadata": {
        "id": "SasUWM8DXcDG",
        "colab_type": "code",
        "outputId": "c943d3f8-1875-49ac-addf-1f6694fcd732",
        "colab": {
          "base_uri": "https://localhost:8080/",
          "height": 122
        }
      },
      "source": [
        "from google.colab import drive\n",
        "drive.mount('/content/drive')"
      ],
      "execution_count": 2,
      "outputs": [
        {
          "output_type": "stream",
          "text": [
            "Go to this URL in a browser: https://accounts.google.com/o/oauth2/auth?client_id=947318989803-6bn6qk8qdgf4n4g3pfee6491hc0brc4i.apps.googleusercontent.com&redirect_uri=urn%3aietf%3awg%3aoauth%3a2.0%3aoob&response_type=code&scope=email%20https%3a%2f%2fwww.googleapis.com%2fauth%2fdocs.test%20https%3a%2f%2fwww.googleapis.com%2fauth%2fdrive%20https%3a%2f%2fwww.googleapis.com%2fauth%2fdrive.photos.readonly%20https%3a%2f%2fwww.googleapis.com%2fauth%2fpeopleapi.readonly\n",
            "\n",
            "Enter your authorization code:\n",
            "··········\n",
            "Mounted at /content/drive\n"
          ],
          "name": "stdout"
        }
      ]
    },
    {
      "cell_type": "code",
      "metadata": {
        "id": "-DRs6pLDXcwN",
        "colab_type": "code",
        "outputId": "921f5b4e-8fbb-45a9-9aec-07888cc94b4f",
        "colab": {
          "base_uri": "https://localhost:8080/",
          "height": 63
        }
      },
      "source": [
        "import numpy as np\n",
        "import pandas as pd\n",
        "import tensorflow as tf\n",
        "from tensorflow.keras.preprocessing.text import Tokenizer\n",
        "from tensorflow.keras.preprocessing.sequence import pad_sequences\n"
      ],
      "execution_count": 3,
      "outputs": [
        {
          "output_type": "display_data",
          "data": {
            "text/html": [
              "<p style=\"color: red;\">\n",
              "The default version of TensorFlow in Colab will soon switch to TensorFlow 2.x.<br>\n",
              "We recommend you <a href=\"https://www.tensorflow.org/guide/migrate\" target=\"_blank\">upgrade</a> now \n",
              "or ensure your notebook will continue to use TensorFlow 1.x via the <code>%tensorflow_version 1.x</code> magic:\n",
              "<a href=\"https://colab.research.google.com/notebooks/tensorflow_version.ipynb\" target=\"_blank\">more info</a>.</p>\n"
            ],
            "text/plain": [
              "<IPython.core.display.HTML object>"
            ]
          },
          "metadata": {
            "tags": []
          }
        }
      ]
    },
    {
      "cell_type": "code",
      "metadata": {
        "id": "QPWW4BUsYCEM",
        "colab_type": "code",
        "colab": {}
      },
      "source": [
        "import csv"
      ],
      "execution_count": 0,
      "outputs": []
    },
    {
      "cell_type": "code",
      "metadata": {
        "id": "-6qncT2CYTAE",
        "colab_type": "code",
        "colab": {}
      },
      "source": [
        "num_sentences = 0\n",
        "questions = []\n",
        "answers = []\n",
        "labels = []\n",
        "with open(\"/content/drive/My Drive/train.csv\") as csvfile:\n",
        "    reader = csv.reader(csvfile, delimiter=',')\n",
        "    next(reader)\n",
        "    for row in reader:\n",
        "        questions.append(row[2]);\n",
        "        answers.append(row[5])\n",
        "        labels.append(row[11:])\n",
        "        num_sentences = num_sentences + 1"
      ],
      "execution_count": 0,
      "outputs": []
    },
    {
      "cell_type": "code",
      "metadata": {
        "id": "wpJ9BagfYWUM",
        "colab_type": "code",
        "outputId": "cf99b748-6091-4007-ad0d-68528106be5d",
        "colab": {
          "base_uri": "https://localhost:8080/",
          "height": 34
        }
      },
      "source": [
        "len(questions)"
      ],
      "execution_count": 6,
      "outputs": [
        {
          "output_type": "execute_result",
          "data": {
            "text/plain": [
              "6079"
            ]
          },
          "metadata": {
            "tags": []
          },
          "execution_count": 6
        }
      ]
    },
    {
      "cell_type": "code",
      "metadata": {
        "id": "d5hYTMzgYi0U",
        "colab_type": "code",
        "outputId": "e3e18a92-9b4f-41fb-d60c-bc40fe1ea40c",
        "colab": {
          "base_uri": "https://localhost:8080/",
          "height": 54
        }
      },
      "source": [
        "new_questions=  []\n",
        "for string1 in questions:\n",
        "  s = \"\"\n",
        "  for e in string1:\n",
        "    if(e.isalnum()):\n",
        "      s+=e\n",
        "    elif(e==' '):\n",
        "      s+=e\n",
        "    elif(e=='.'):\n",
        "      s+=' '\n",
        "  new_questions.append(s)\n",
        "print(s)"
      ],
      "execution_count": 7,
      "outputs": [
        {
          "output_type": "stream",
          "text": [
            "Newbie question Why is it that theres a bazillion different types of screws Why cant we just always use one standard screw type Are there advantagesdisadvantages to the different types Are there times when one type is preferred over anotherHelp me understand why there isnt one screw to rule them all \n"
          ],
          "name": "stdout"
        }
      ]
    },
    {
      "cell_type": "code",
      "metadata": {
        "id": "juRWNcDDy5Um",
        "colab_type": "code",
        "outputId": "5a43fd9e-1abb-4757-8156-8debc30919d4",
        "colab": {
          "base_uri": "https://localhost:8080/",
          "height": 54
        }
      },
      "source": [
        "new_answers =  []\n",
        "for string1 in answers:\n",
        "  s = \"\"\n",
        "  for e in string1:\n",
        "    if(e.isalnum()):\n",
        "      s+=e\n",
        "    elif(e==' '):\n",
        "      s+=e\n",
        "    elif(e=='.'):\n",
        "      s+=' '\n",
        "  new_answers.append(s)\n",
        "print(s)"
      ],
      "execution_count": 8,
      "outputs": [
        {
          "output_type": "stream",
          "text": [
            "First I really like Erics answer for practical reasons   But there is another side to screw head diversity  Security In the end its usually a temporary measure   Once a company invents a new screw some third party will start selling tools to remove them   But for a time any new screw design means the only people who can open your parts are certified workshops youve given tools to   Personally I see this a lot in electronic equipment where the original manufacturer wants some aspect of design kept private or doesnt want aftermarket mods made to things they sell   Nintendo is particularly active in inventing new screws Examples of security screws include 3prong Torx variants and Allen heads with a raised dot in the middle of the screw head to stop standard Allen wrenches from fitting If youd like to see a much more industrial version find a car which has been booted and look at the bolt   Ive seen circular bolt heads with an offcenter circular hollow inside   No shoulders or slots to grab you have to have a very specific wrench   And of course there are security lug nuts for car tires \n"
          ],
          "name": "stdout"
        }
      ]
    },
    {
      "cell_type": "code",
      "metadata": {
        "id": "4cCLFsBqcWHs",
        "colab_type": "code",
        "outputId": "b8a76628-402f-4156-aa78-c9f487135168",
        "colab": {
          "base_uri": "https://localhost:8080/",
          "height": 204
        }
      },
      "source": [
        "maxx  = 0\n",
        "total = 0\n",
        "for sentence in new_answers:\n",
        "  total = total+len(sentence.split())\n",
        "  if(len(sentence.split())>maxx):\n",
        "    maxx = len(sentence.split())\n",
        "    print(len(sentence.split()))\n",
        "    \n",
        "\n",
        "print(maxx)\n",
        "print(total/6079)"
      ],
      "execution_count": 9,
      "outputs": [
        {
          "output_type": "stream",
          "text": [
            "150\n",
            "183\n",
            "246\n",
            "704\n",
            "755\n",
            "994\n",
            "1133\n",
            "1237\n",
            "2373\n",
            "2373\n",
            "129.7215002467511\n"
          ],
          "name": "stdout"
        }
      ]
    },
    {
      "cell_type": "code",
      "metadata": {
        "id": "yHt3eIkDjvMa",
        "colab_type": "code",
        "outputId": "3761b434-048d-4d72-f630-6d09a0ebddd9",
        "colab": {
          "base_uri": "https://localhost:8080/",
          "height": 34
        }
      },
      "source": [
        "len(new_questions)"
      ],
      "execution_count": 10,
      "outputs": [
        {
          "output_type": "execute_result",
          "data": {
            "text/plain": [
              "6079"
            ]
          },
          "metadata": {
            "tags": []
          },
          "execution_count": 10
        }
      ]
    },
    {
      "cell_type": "code",
      "metadata": {
        "id": "ES6_33pqcXVj",
        "colab_type": "code",
        "outputId": "8069e4e0-9acf-4545-8de3-f4883393694e",
        "colab": {
          "base_uri": "https://localhost:8080/",
          "height": 34
        }
      },
      "source": [
        "string1 = \"hello,! how u doing\"\n",
        "s = \"\"\n",
        "for e in string1:\n",
        "  if(e.isalnum()):\n",
        "    s+=e\n",
        "  elif(e==' '):\n",
        "    s+=e\n",
        "print(s)"
      ],
      "execution_count": 11,
      "outputs": [
        {
          "output_type": "stream",
          "text": [
            "hello how u doing\n"
          ],
          "name": "stdout"
        }
      ]
    },
    {
      "cell_type": "code",
      "metadata": {
        "id": "3ekPJxdQhL7q",
        "colab_type": "code",
        "outputId": "3f7c457e-bd25-4b6e-a94e-b66b50ed5df8",
        "colab": {
          "base_uri": "https://localhost:8080/",
          "height": 34
        }
      },
      "source": [
        "total_sentences = []\n",
        "for question in new_questions:\n",
        "  total_sentences.append(question)\n",
        "for answer in new_answers:\n",
        "  total_sentences.append(answer)\n",
        "len(total_sentences)"
      ],
      "execution_count": 12,
      "outputs": [
        {
          "output_type": "execute_result",
          "data": {
            "text/plain": [
              "12158"
            ]
          },
          "metadata": {
            "tags": []
          },
          "execution_count": 12
        }
      ]
    },
    {
      "cell_type": "code",
      "metadata": {
        "id": "nGkJsh8jzUch",
        "colab_type": "code",
        "colab": {}
      },
      "source": [
        "embedding_dim = 100\n",
        "max_length = 150\n",
        "trunc_type='post'\n",
        "padding_type='post'\n",
        "oov_tok = \"<OOV>\""
      ],
      "execution_count": 0,
      "outputs": []
    },
    {
      "cell_type": "code",
      "metadata": {
        "id": "ro8eGX6L1Art",
        "colab_type": "code",
        "colab": {}
      },
      "source": [
        "tokenizer = Tokenizer(oov_token=oov_tok)\n",
        "tokenizer.fit_on_texts(total_sentences)\n",
        "\n",
        "word_index = tokenizer.word_index\n",
        "vocab_size=len(word_index)"
      ],
      "execution_count": 0,
      "outputs": []
    },
    {
      "cell_type": "code",
      "metadata": {
        "id": "SM4aQG4t1Iwc",
        "colab_type": "code",
        "outputId": "edbe67f1-251b-46a6-a4ab-332625eb0aa8",
        "colab": {
          "base_uri": "https://localhost:8080/",
          "height": 34
        }
      },
      "source": [
        "print(vocab_size)"
      ],
      "execution_count": 31,
      "outputs": [
        {
          "output_type": "stream",
          "text": [
            "87436\n"
          ],
          "name": "stdout"
        }
      ]
    },
    {
      "cell_type": "code",
      "metadata": {
        "id": "zUFtXR742DlS",
        "colab_type": "code",
        "colab": {}
      },
      "source": [
        "question_sequences = tokenizer.texts_to_sequences(new_questions)\n",
        "question_padded = pad_sequences(question_sequences, maxlen=max_length, padding=padding_type, truncating=trunc_type)\n",
        "\n",
        "answer_sequences = tokenizer.texts_to_sequences(new_answers)\n",
        "answer_padded = pad_sequences(answer_sequences, maxlen=max_length, padding=padding_type, truncating=trunc_type)\n"
      ],
      "execution_count": 0,
      "outputs": []
    },
    {
      "cell_type": "code",
      "metadata": {
        "id": "iX2L-50Y29J4",
        "colab_type": "code",
        "outputId": "875a5718-78ef-4580-9999-b91cd243b132",
        "colab": {
          "base_uri": "https://localhost:8080/",
          "height": 34
        }
      },
      "source": [
        "len(question_sequences)"
      ],
      "execution_count": 33,
      "outputs": [
        {
          "output_type": "execute_result",
          "data": {
            "text/plain": [
              "6079"
            ]
          },
          "metadata": {
            "tags": []
          },
          "execution_count": 33
        }
      ]
    },
    {
      "cell_type": "code",
      "metadata": {
        "id": "jLHLbpgCBWWl",
        "colab_type": "code",
        "colab": {}
      },
      "source": [
        ""
      ],
      "execution_count": 0,
      "outputs": []
    },
    {
      "cell_type": "code",
      "metadata": {
        "id": "FSsRC5hF3AV5",
        "colab_type": "code",
        "outputId": "0e47d50f-8838-41ed-c203-f2429a215d5c",
        "colab": {
          "base_uri": "https://localhost:8080/",
          "height": 292
        }
      },
      "source": [
        "print(len(answer_sequences[1]))\n",
        "print(answer_sequences[1])\n",
        "print(answer_padded[1])"
      ],
      "execution_count": 34,
      "outputs": [
        {
          "output_type": "stream",
          "text": [
            "74\n",
            "[11, 137, 15, 1366, 3, 181, 87, 2, 903, 8, 2931, 54011, 19069, 2931, 2739, 28, 596, 24417, 17, 23204, 1264, 17264, 5502, 5839, 1665, 1131, 89, 4, 14141, 57, 29, 156, 2366, 5124, 11, 188, 4, 1173, 1834, 10, 10176, 35, 37595, 2, 14140, 17, 2931, 2931, 27, 2, 261, 6520, 2339, 35, 5904, 87, 2, 6130, 5648, 4, 972, 1130, 17, 261, 54012, 9058, 4544, 11, 37596, 823, 18, 20, 121, 2931]\n",
            "[   11   137    15  1366     3   181    87     2   903     8  2931 54011\n",
            " 19069  2931  2739    28   596 24417    17 23204  1264 17264  5502  5839\n",
            "  1665  1131    89     4 14141    57    29   156  2366  5124    11   188\n",
            "     4  1173  1834    10 10176    35 37595     2 14140    17  2931  2931\n",
            "    27     2   261  6520  2339    35  5904    87     2  6130  5648     4\n",
            "   972  1130    17   261 54012  9058  4544    11 37596   823    18    20\n",
            "   121  2931     0     0     0     0     0     0     0     0     0     0\n",
            "     0     0     0     0     0     0     0     0     0     0     0     0\n",
            "     0     0     0     0     0     0     0     0     0     0     0     0\n",
            "     0     0     0     0     0     0     0     0     0     0     0     0\n",
            "     0     0     0     0     0     0     0     0     0     0     0     0\n",
            "     0     0     0     0     0     0     0     0     0     0     0     0\n",
            "     0     0     0     0     0     0]\n"
          ],
          "name": "stdout"
        }
      ]
    },
    {
      "cell_type": "code",
      "metadata": {
        "id": "LUfFtlImJ_pp",
        "colab_type": "code",
        "colab": {
          "base_uri": "https://localhost:8080/",
          "height": 1000
        },
        "outputId": "04677329-0899-4db2-a48c-de31210d2158"
      },
      "source": [
        "final_x[1]"
      ],
      "execution_count": 35,
      "outputs": [
        {
          "output_type": "execute_result",
          "data": {
            "text/plain": [
              "array([    5,    64,   179,     3,   273,    37,  2374,     8,  1188,\n",
              "           2,  2931,   279,    16,   280,  5948,  1530,     3,     9,\n",
              "           2,  5949,  2130,   377,   416,    13, 20101,   384,   280,\n",
              "         771,     4, 11120,     6,     4, 14140,     4, 14140,     6,\n",
              "           4, 16190,   988,   537,    13, 14141,   384,   374,     4,\n",
              "       14141,     6,     4,   106,   444, 16190,   596,   583,    39,\n",
              "          10,     6,    28, 11121,     8,    92,    25,    55,  5468,\n",
              "           4,  1130,  9275,     7, 11120,  9275,    35,  1719,     3,\n",
              "          18,   324, 11122,    23,    13,    46,   332,     2, 11120,\n",
              "          38,  1516, 20102,    57,     4,   686,  2931,  2739,  1131,\n",
              "        3355,   280,  5948,  2062,   116,   115,     8,     4,  9275,\n",
              "          20,   158,    55,  6520,     7,  6210,   123,   207,  1317,\n",
              "       11123,     7,  3650,  5950,    82,     4,  3098, 11124,   123,\n",
              "         207,    28, 14142, 16191,     2,  1131,  6836,    83,    77,\n",
              "         115,    10,     5,    64,   647,    67,    14,  4625,    37,\n",
              "           6,     4,   182,    71,     8,   647,     8,    79,     0,\n",
              "           0,     0,     0,     0,     0,     0,     0,     0,     0,\n",
              "           0,     0,     0,     0,     0,     0,     0,     0,     0,\n",
              "           0,     0,     0,     0,     0,     0,     0,     0,     0,\n",
              "           0,     0,     0,     0,     0,     0,     0,     0,     0,\n",
              "           0,     0,     0,     0,     0,     0,     0,     0,     0,\n",
              "           0,     0,     0,     0,     0,     0,     0,     0,     0,\n",
              "           0,     0,     0,     0,     0,     0,     0,     0,     0,\n",
              "           0,     0,     0,     0,     0,     0,     0,     0,     0,\n",
              "           0,     0,     0,     0,     0,     0,     0,     0,     0,\n",
              "           0,     0,     0,     0,     0,     0,     0,     0,     0,\n",
              "           0,     0,     0,     0,     0,     0,     0,     0,     0,\n",
              "           0,     0,     0,     0,     0,     0,     0,     0,     0,\n",
              "           0,     0,     0,     0,     0,     0,     0,     0,     0,\n",
              "           0,     0,     0,     0,     0,     0,     0,     0,     0,\n",
              "           0,     0,     0,     0,     0,     0,     0,     0,     0,\n",
              "           0,     0,     0,     0,     0,     0,     0,     0,     0,\n",
              "           0,     0,     0,     0,     0,     0,     0,     0,     0,\n",
              "           0,     0,     0,    11,   137,    15,  1366,     3,   181,\n",
              "          87,     2,   903,     8,  2931, 54011, 19069,  2931,  2739,\n",
              "          28,   596, 24417,    17, 23204,  1264, 17264,  5502,  5839,\n",
              "        1665,  1131,    89,     4, 14141,    57,    29,   156,  2366,\n",
              "        5124,    11,   188,     4,  1173,  1834,    10, 10176,    35,\n",
              "       37595,     2, 14140,    17,  2931,  2931,    27,     2,   261,\n",
              "        6520,  2339,    35,  5904,    87,     2,  6130,  5648,     4,\n",
              "         972,  1130,    17,   261, 54012,  9058,  4544,    11, 37596,\n",
              "         823,    18,    20,   121,  2931,     0,     0,     0,     0,\n",
              "           0,     0,     0,     0,     0,     0,     0,     0,     0,\n",
              "           0,     0,     0,     0,     0,     0,     0,     0,     0,\n",
              "           0,     0,     0,     0,     0,     0,     0,     0,     0,\n",
              "           0,     0,     0,     0,     0,     0,     0,     0,     0,\n",
              "           0,     0,     0,     0,     0,     0,     0,     0,     0,\n",
              "           0,     0,     0,     0,     0,     0,     0,     0,     0,\n",
              "           0,     0,     0,     0,     0,     0,     0,     0,     0,\n",
              "           0,     0,     0,     0,     0,     0,     0,     0,     0,\n",
              "           0,     0,     0,     0,     0,     0,     0,     0,     0,\n",
              "           0,     0,     0,     0,     0,     0,     0,     0,     0,\n",
              "           0,     0,     0,     0,     0,     0,     0,     0,     0,\n",
              "           0,     0,     0,     0,     0,     0,     0,     0,     0,\n",
              "           0,     0,     0,     0,     0,     0,     0,     0,     0,\n",
              "           0,     0,     0,     0,     0,     0,     0,     0,     0,\n",
              "           0,     0,     0,     0,     0,     0,     0,     0,     0,\n",
              "           0,     0,     0,     0,     0,     0,     0,     0,     0,\n",
              "           0,     0,     0,     0,     0,     0,     0,     0,     0,\n",
              "           0,     0,     0,     0,     0,     0,     0,     0,     0,\n",
              "           0,     0,     0,     0,     0,     0,     0,     0,     0,\n",
              "           0,     0,     0,     0,     0,     0,     0,     0,     0,\n",
              "           0,     0,     0,     0,     0,     0,     0,     0,     0,\n",
              "           0,     0,     0,     0,     0,     0,     0,     0,     0,\n",
              "           0,     0,     0,     0,     0,     0,     0,     0,     0,\n",
              "           0,     0,     0,     0,     0,     0,     0,     0,     0,\n",
              "           0,     0,     0,     0,     0,     0], dtype=int32)"
            ]
          },
          "metadata": {
            "tags": []
          },
          "execution_count": 35
        }
      ]
    },
    {
      "cell_type": "code",
      "metadata": {
        "id": "8YtfQaEi3OUh",
        "colab_type": "code",
        "colab": {}
      },
      "source": [
        "question_padded_np_array = np.array(question_padded)\n",
        "answer_padded_np_array = np.array(answer_padded)\n",
        "\n"
      ],
      "execution_count": 0,
      "outputs": []
    },
    {
      "cell_type": "code",
      "metadata": {
        "id": "NZCi7DNQ5DPW",
        "colab_type": "code",
        "colab": {}
      },
      "source": [
        "a = np.array(([[1,2,3],[4,5,6]]))\n",
        "b = np.array([[7,8,9],[3,4,5]])"
      ],
      "execution_count": 0,
      "outputs": []
    },
    {
      "cell_type": "code",
      "metadata": {
        "id": "f6kyOlfILcMx",
        "colab_type": "code",
        "colab": {
          "base_uri": "https://localhost:8080/",
          "height": 51
        },
        "outputId": "bc08f0c5-f666-45fb-d531-6c3b01e073f5"
      },
      "source": [
        "print(word_index['i'])\n",
        "print(word_index.get('i'))"
      ],
      "execution_count": 43,
      "outputs": [
        {
          "output_type": "stream",
          "text": [
            "5\n",
            "5\n"
          ],
          "name": "stdout"
        }
      ]
    },
    {
      "cell_type": "code",
      "metadata": {
        "id": "Nl6t8A2L5VzI",
        "colab_type": "code",
        "outputId": "0aed5366-0034-4c69-a505-e3483b0b3d18",
        "colab": {
          "base_uri": "https://localhost:8080/",
          "height": 51
        }
      },
      "source": [
        "c = np.append(a,b,axis = 1)\n",
        "print(c)"
      ],
      "execution_count": 39,
      "outputs": [
        {
          "output_type": "stream",
          "text": [
            "[[1 2 3 7 8 9]\n",
            " [4 5 6 3 4 5]]\n"
          ],
          "name": "stdout"
        }
      ]
    },
    {
      "cell_type": "code",
      "metadata": {
        "id": "qepMukyf5eJo",
        "colab_type": "code",
        "outputId": "c4411f6a-e063-4263-ece9-e56c9a9b4561",
        "colab": {
          "base_uri": "https://localhost:8080/",
          "height": 34
        }
      },
      "source": [
        "final_x = np.append(question_padded_np_array,answer_padded_np_array,axis = 1)\n",
        "print(final_x.shape)"
      ],
      "execution_count": 40,
      "outputs": [
        {
          "output_type": "stream",
          "text": [
            "(6079, 300)\n"
          ],
          "name": "stdout"
        }
      ]
    },
    {
      "cell_type": "code",
      "metadata": {
        "id": "YUGhhjfJ5zdy",
        "colab_type": "code",
        "outputId": "93e5d4d1-97ad-458b-fd41-a4d8a628f338",
        "colab": {
          "base_uri": "https://localhost:8080/",
          "height": 204
        }
      },
      "source": [
        "!wget --no-check-certificate \\\n",
        "    https://storage.googleapis.com/laurencemoroney-blog.appspot.com/glove.6B.100d.txt \\\n",
        "    -O /tmp/glove.6B.100d.txt\n",
        "embeddings_index = {};\n",
        "with open('/tmp/glove.6B.100d.txt') as f:\n",
        "    for line in f:\n",
        "        values = line.split();\n",
        "        word = values[0];\n",
        "        coefs = np.asarray(values[1:], dtype='float32');\n",
        "        embeddings_index[word] = coefs;\n",
        "\n",
        "embeddings_matrix = np.zeros((vocab_size+1, embedding_dim));\n",
        "for word, i in word_index.items():\n",
        "    embedding_vector = embeddings_index.get(word);\n",
        "    if embedding_vector is not None:\n",
        "        embeddings_matrix[i] = embedding_vector;"
      ],
      "execution_count": 49,
      "outputs": [
        {
          "output_type": "stream",
          "text": [
            "--2019-12-17 05:41:27--  https://storage.googleapis.com/laurencemoroney-blog.appspot.com/glove.6B.100d.txt\n",
            "Resolving storage.googleapis.com (storage.googleapis.com)... 74.125.195.128, 2607:f8b0:400e:c08::80\n",
            "Connecting to storage.googleapis.com (storage.googleapis.com)|74.125.195.128|:443... connected.\n",
            "HTTP request sent, awaiting response... 200 OK\n",
            "Length: 347116733 (331M) [text/plain]\n",
            "Saving to: ‘/tmp/glove.6B.100d.txt’\n",
            "\n",
            "/tmp/glove.6B.100d. 100%[===================>] 331.04M   198MB/s    in 1.7s    \n",
            "\n",
            "2019-12-17 05:41:29 (198 MB/s) - ‘/tmp/glove.6B.100d.txt’ saved [347116733/347116733]\n",
            "\n"
          ],
          "name": "stdout"
        }
      ]
    },
    {
      "cell_type": "code",
      "metadata": {
        "id": "dAYAjOyHL02J",
        "colab_type": "code",
        "colab": {
          "base_uri": "https://localhost:8080/",
          "height": 357
        },
        "outputId": "f3cf45a1-0065-4289-816e-6cc48e582290"
      },
      "source": [
        "embeddings_matrix[2]"
      ],
      "execution_count": 54,
      "outputs": [
        {
          "output_type": "execute_result",
          "data": {
            "text/plain": [
              "array([-0.038194  , -0.24487001,  0.72812003, -0.39961001,  0.083172  ,\n",
              "        0.043953  , -0.39140999,  0.3344    , -0.57545   ,  0.087459  ,\n",
              "        0.28786999, -0.06731   ,  0.30906001, -0.26383999, -0.13231   ,\n",
              "       -0.20757   ,  0.33395001, -0.33848   , -0.31742999, -0.48335999,\n",
              "        0.1464    , -0.37303999,  0.34577   ,  0.052041  ,  0.44946   ,\n",
              "       -0.46970999,  0.02628   , -0.54154998, -0.15518001, -0.14106999,\n",
              "       -0.039722  ,  0.28277001,  0.14393   ,  0.23464   , -0.31020999,\n",
              "        0.086173  ,  0.20397   ,  0.52623999,  0.17163999, -0.082378  ,\n",
              "       -0.71787   , -0.41531   ,  0.20334999, -0.12763   ,  0.41367   ,\n",
              "        0.55186999,  0.57907999, -0.33476999, -0.36559001, -0.54856998,\n",
              "       -0.062892  ,  0.26583999,  0.30204999,  0.99774998, -0.80480999,\n",
              "       -3.0243001 ,  0.01254   , -0.36941999,  2.21670008,  0.72201002,\n",
              "       -0.24978   ,  0.92136002,  0.034514  ,  0.46744999,  1.10790002,\n",
              "       -0.19358   , -0.074575  ,  0.23353   , -0.052062  , -0.22044   ,\n",
              "        0.057162  , -0.15806   , -0.30798   , -0.41624999,  0.37972   ,\n",
              "        0.15006   , -0.53211999, -0.20550001, -1.25259995,  0.071624  ,\n",
              "        0.70564997,  0.49744001, -0.42063001,  0.26148   , -1.53799999,\n",
              "       -0.30223   , -0.073438  , -0.28312001,  0.37103999, -0.25217   ,\n",
              "        0.016215  , -0.017099  , -0.38984001,  0.87423998, -0.72569001,\n",
              "       -0.51058   , -0.52028   , -0.1459    ,  0.82779998,  0.27061999])"
            ]
          },
          "metadata": {
            "tags": []
          },
          "execution_count": 54
        }
      ]
    },
    {
      "cell_type": "code",
      "metadata": {
        "id": "W-0j4gwB6zqA",
        "colab_type": "code",
        "outputId": "e1fa2db1-db8d-4b10-f982-69099eef8597",
        "colab": {
          "base_uri": "https://localhost:8080/",
          "height": 34
        }
      },
      "source": [
        "print((embeddings_matrix).shape)"
      ],
      "execution_count": 47,
      "outputs": [
        {
          "output_type": "stream",
          "text": [
            "(87436, 100)\n"
          ],
          "name": "stdout"
        }
      ]
    },
    {
      "cell_type": "code",
      "metadata": {
        "id": "_bWGGfZE7Qky",
        "colab_type": "code",
        "outputId": "6ddeb749-e44c-4896-c24e-e13f0eca8bda",
        "colab": {
          "base_uri": "https://localhost:8080/",
          "height": 34
        }
      },
      "source": [
        "labels = np.array(labels)\n",
        "print(labels.shape)"
      ],
      "execution_count": 77,
      "outputs": [
        {
          "output_type": "stream",
          "text": [
            "(6079, 30)\n"
          ],
          "name": "stdout"
        }
      ]
    },
    {
      "cell_type": "code",
      "metadata": {
        "id": "cGOsc2vIPj3B",
        "colab_type": "code",
        "colab": {
          "base_uri": "https://localhost:8080/",
          "height": 51
        },
        "outputId": "d5928e0f-7d83-4ff0-d917-1458ca7acb71"
      },
      "source": [
        "labels[:,0]"
      ],
      "execution_count": 83,
      "outputs": [
        {
          "output_type": "execute_result",
          "data": {
            "text/plain": [
              "array(['1.0', '1.0', '0.8888888888888888', ..., '0.8888888888888888',\n",
              "       '1.0', '1.0'], dtype='<U19')"
            ]
          },
          "metadata": {
            "tags": []
          },
          "execution_count": 83
        }
      ]
    },
    {
      "cell_type": "code",
      "metadata": {
        "id": "MuDyT72sPNAg",
        "colab_type": "code",
        "colab": {
          "base_uri": "https://localhost:8080/",
          "height": 51
        },
        "outputId": "bbd0953c-a3c1-4bc6-e538-48761f6ee2f1"
      },
      "source": [
        "print(final_x.shape)\n",
        "print(y1.shape)"
      ],
      "execution_count": 85,
      "outputs": [
        {
          "output_type": "stream",
          "text": [
            "(6079, 300)\n",
            "(6079,)\n"
          ],
          "name": "stdout"
        }
      ]
    },
    {
      "cell_type": "code",
      "metadata": {
        "id": "3vN0QPbwOzYA",
        "colab_type": "code",
        "colab": {}
      },
      "source": [
        "y1  = labels[:,0]"
      ],
      "execution_count": 0,
      "outputs": []
    },
    {
      "cell_type": "code",
      "metadata": {
        "id": "O7Ylsoz169ev",
        "colab_type": "code",
        "outputId": "1d8959a9-3de8-49e0-b377-b319470bd9ff",
        "colab": {
          "base_uri": "https://localhost:8080/",
          "height": 697
        }
      },
      "source": [
        "model = tf.keras.Sequential([\n",
        "    tf.keras.layers.Embedding(vocab_size+1, embedding_dim, input_length=2*max_length, weights=[embeddings_matrix], trainable=None),\n",
        "    #tf.keras.layers.Dropout(0.2),\n",
        "    tf.keras.layers.LSTM(64,return_sequences = True),\n",
        "    #tf.keras.layers.LSTM(64,activation='relu',return_sequences=True),\n",
        "    tf.keras.layers.MaxPooling1D(pool_size=4),\n",
        "    tf.keras.layers.LSTM(64),\n",
        "    tf.keras.layers.Dense(1, activation=\"softmax\")\n",
        "])\n",
        "model.compile(loss='mean_absolute_error',optimizer='adam',metrics=['accuracy'])\n",
        "model.summary()\n",
        "\n",
        "num_epochs = 50\n",
        "history = model.fit(final_x, y1, epochs=10,verbose=1)\n",
        "\n",
        "print(\"Training Complete\")"
      ],
      "execution_count": 86,
      "outputs": [
        {
          "output_type": "stream",
          "text": [
            "Model: \"sequential_9\"\n",
            "_________________________________________________________________\n",
            "Layer (type)                 Output Shape              Param #   \n",
            "=================================================================\n",
            "embedding_9 (Embedding)      (None, 300, 100)          8743700   \n",
            "_________________________________________________________________\n",
            "lstm_14 (LSTM)               (None, 300, 64)           42240     \n",
            "_________________________________________________________________\n",
            "max_pooling1d_7 (MaxPooling1 (None, 75, 64)            0         \n",
            "_________________________________________________________________\n",
            "lstm_15 (LSTM)               (None, 64)                33024     \n",
            "_________________________________________________________________\n",
            "dense_7 (Dense)              (None, 1)                 65        \n",
            "=================================================================\n",
            "Total params: 8,819,029\n",
            "Trainable params: 75,329\n",
            "Non-trainable params: 8,743,700\n",
            "_________________________________________________________________\n",
            "Train on 6079 samples\n",
            "Epoch 1/10\n",
            "6079/6079 [==============================] - 93s 15ms/sample - loss: 0.1073 - acc: 0.4660\n",
            "Epoch 2/10\n",
            "6079/6079 [==============================] - 90s 15ms/sample - loss: 0.1073 - acc: 0.4660\n",
            "Epoch 3/10\n",
            "6079/6079 [==============================] - 88s 15ms/sample - loss: 0.1073 - acc: 0.4660\n",
            "Epoch 4/10\n",
            "6079/6079 [==============================] - 89s 15ms/sample - loss: 0.1073 - acc: 0.4660\n",
            "Epoch 5/10\n",
            "6079/6079 [==============================] - 88s 15ms/sample - loss: 0.1073 - acc: 0.4660\n",
            "Epoch 6/10\n",
            "6079/6079 [==============================] - 89s 15ms/sample - loss: 0.1073 - acc: 0.4660\n",
            "Epoch 7/10\n",
            "6079/6079 [==============================] - 89s 15ms/sample - loss: 0.1073 - acc: 0.4660\n",
            "Epoch 8/10\n",
            "6079/6079 [==============================] - 91s 15ms/sample - loss: 0.1073 - acc: 0.4660\n",
            "Epoch 9/10\n",
            "6079/6079 [==============================] - 89s 15ms/sample - loss: 0.1073 - acc: 0.4660\n",
            "Epoch 10/10\n",
            "6079/6079 [==============================] - 89s 15ms/sample - loss: 0.1073 - acc: 0.4660\n",
            "Training Complete\n"
          ],
          "name": "stdout"
        }
      ]
    },
    {
      "cell_type": "code",
      "metadata": {
        "id": "dpX2fbfBNSLJ",
        "colab_type": "code",
        "colab": {}
      },
      "source": [
        "test_model = tf.keras.Sequential([tf.keras.layers.Embedding(vocab_size+1, embedding_dim, input_length=1, weights=[embeddings_matrix], trainable=None)])"
      ],
      "execution_count": 0,
      "outputs": []
    },
    {
      "cell_type": "code",
      "metadata": {
        "id": "9Z9GI1ei78j0",
        "colab_type": "code",
        "colab": {
          "base_uri": "https://localhost:8080/",
          "height": 374
        },
        "outputId": "749dfee5-2f35-4859-c79c-b68504e81f4e"
      },
      "source": [
        "test_model.predict([5])"
      ],
      "execution_count": 58,
      "outputs": [
        {
          "output_type": "execute_result",
          "data": {
            "text/plain": [
              "array([[[-0.046539 ,  0.61966  ,  0.56647  , -0.46584  , -1.189    ,\n",
              "          0.44599  ,  0.066035 ,  0.3191   ,  0.14679  , -0.22119  ,\n",
              "          0.79239  ,  0.29905  ,  0.16073  ,  0.025324 ,  0.18678  ,\n",
              "         -0.31001  , -0.28108  ,  0.60515  , -1.0654   ,  0.52476  ,\n",
              "          0.064152 ,  1.0358   , -0.40779  , -0.38011  ,  0.30801  ,\n",
              "          0.59964  , -0.26991  , -0.76035  ,  0.94222  , -0.46919  ,\n",
              "         -0.18278  ,  0.90652  ,  0.79671  ,  0.24825  ,  0.25713  ,\n",
              "          0.6232   , -0.44768  ,  0.65357  ,  0.76902  , -0.51229  ,\n",
              "         -0.44333  , -0.21867  ,  0.3837   , -1.1483   , -0.94398  ,\n",
              "         -0.15062  ,  0.30012  , -0.57806  ,  0.20175  , -1.6591   ,\n",
              "         -0.079195 ,  0.026423 ,  0.22051  ,  0.99714  , -0.57539  ,\n",
              "         -2.7266   ,  0.31448  ,  0.70522  ,  1.4381   ,  0.99126  ,\n",
              "          0.13976  ,  1.3474   , -1.1753   ,  0.0039503,  1.0298   ,\n",
              "          0.064637 ,  0.90887  ,  0.82872  , -0.47003  , -0.10575  ,\n",
              "          0.5916   , -0.4221   ,  0.57331  , -0.54114  ,  0.10768  ,\n",
              "          0.39784  , -0.048744 ,  0.064596 , -0.61437  , -0.286    ,\n",
              "          0.5067   , -0.49758  , -0.8157   ,  0.16408  , -1.963    ,\n",
              "         -0.26693  , -0.37593  , -0.95847  , -0.8584   , -0.71577  ,\n",
              "         -0.32343  , -0.43121  ,  0.41392  ,  0.28374  , -0.70931  ,\n",
              "          0.15003  , -0.2154   , -0.37616  , -0.032502 ,  0.8062   ]]],\n",
              "      dtype=float32)"
            ]
          },
          "metadata": {
            "tags": []
          },
          "execution_count": 58
        }
      ]
    },
    {
      "cell_type": "code",
      "metadata": {
        "id": "W0lJrFYENse8",
        "colab_type": "code",
        "colab": {
          "base_uri": "https://localhost:8080/",
          "height": 357
        },
        "outputId": "cb116a41-dd49-4344-b19b-b084be2a3d5b"
      },
      "source": [
        "embeddings_matrix[5]"
      ],
      "execution_count": 59,
      "outputs": [
        {
          "output_type": "execute_result",
          "data": {
            "text/plain": [
              "array([-0.046539  ,  0.61966002,  0.56647003, -0.46584001, -1.18900001,\n",
              "        0.44599   ,  0.066035  ,  0.31909999,  0.14679   , -0.22119001,\n",
              "        0.79238999,  0.29905   ,  0.16073   ,  0.025324  ,  0.18678001,\n",
              "       -0.31000999, -0.28108001,  0.60514998, -1.0654    ,  0.52476001,\n",
              "        0.064152  ,  1.03579998, -0.40779001, -0.38011   ,  0.30801001,\n",
              "        0.59964001, -0.26991001, -0.76034999,  0.94221997, -0.46919   ,\n",
              "       -0.18278   ,  0.90652001,  0.79671001,  0.24824999,  0.25713   ,\n",
              "        0.6232    , -0.44768   ,  0.65357   ,  0.76902002, -0.51229   ,\n",
              "       -0.44332999, -0.21867   ,  0.38370001, -1.14830005, -0.94397998,\n",
              "       -0.15062   ,  0.30012   , -0.57805997,  0.20175   , -1.65910006,\n",
              "       -0.079195  ,  0.026423  ,  0.22051001,  0.99713999, -0.57538998,\n",
              "       -2.72659993,  0.31448001,  0.70521998,  1.43809998,  0.99125999,\n",
              "        0.13976   ,  1.34739995, -1.1753    ,  0.0039503 ,  1.02980006,\n",
              "        0.064637  ,  0.90886998,  0.82871997, -0.47003001, -0.10575   ,\n",
              "        0.5916    , -0.42210001,  0.57331002, -0.54114002,  0.10768   ,\n",
              "        0.39783999, -0.048744  ,  0.064596  , -0.61436999, -0.28600001,\n",
              "        0.50669998, -0.49757999, -0.81569999,  0.16407999, -1.96300006,\n",
              "       -0.26693001, -0.37593001, -0.95846999, -0.85839999, -0.71577001,\n",
              "       -0.32343   , -0.43121001,  0.41391999,  0.28374001, -0.70931   ,\n",
              "        0.15003   , -0.2154    , -0.37616   , -0.032502  ,  0.80620003])"
            ]
          },
          "metadata": {
            "tags": []
          },
          "execution_count": 59
        }
      ]
    },
    {
      "cell_type": "code",
      "metadata": {
        "id": "XoRhx9noN1u1",
        "colab_type": "code",
        "colab": {}
      },
      "source": [
        ""
      ],
      "execution_count": 0,
      "outputs": []
    }
  ]
}