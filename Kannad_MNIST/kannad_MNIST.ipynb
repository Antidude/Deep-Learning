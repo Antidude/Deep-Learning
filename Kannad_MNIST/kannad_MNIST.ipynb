{
  "nbformat": 4,
  "nbformat_minor": 0,
  "metadata": {
    "colab": {
      "name": "kannad MNIST",
      "provenance": []
    },
    "kernelspec": {
      "name": "python3",
      "display_name": "Python 3"
    },
    "accelerator": "GPU"
  },
  "cells": [
    {
      "cell_type": "code",
      "metadata": {
        "id": "QQpCiSwDlXA4",
        "colab_type": "code",
        "colab": {
          "base_uri": "https://localhost:8080/",
          "height": 35
        },
        "outputId": "63961063-252f-48bd-f123-12042e141f67"
      },
      "source": [
        "from google.colab import drive\n",
        "drive.mount('/content/gdrive')\n",
        "import os\n",
        "import zipfile\n",
        "import csv\n",
        "import numpy as np\n",
        "import tensorflow as tf\n",
        "from tensorflow import keras\n"
      ],
      "execution_count": null,
      "outputs": [
        {
          "output_type": "stream",
          "text": [
            "Drive already mounted at /content/gdrive; to attempt to forcibly remount, call drive.mount(\"/content/gdrive\", force_remount=True).\n"
          ],
          "name": "stdout"
        }
      ]
    },
    {
      "cell_type": "code",
      "metadata": {
        "id": "YfFeyDvBUwNA",
        "colab_type": "code",
        "colab": {}
      },
      "source": [
        "from tensorflow.keras.preprocessing.image import ImageDataGenerator"
      ],
      "execution_count": null,
      "outputs": []
    },
    {
      "cell_type": "code",
      "metadata": {
        "id": "xVCsKlWpcolO",
        "colab_type": "code",
        "colab": {}
      },
      "source": [
        " \n",
        "%matplotlib inline\n",
        "\n",
        "import matplotlib.pyplot as plt\n",
        "import matplotlib.image as mpimg"
      ],
      "execution_count": null,
      "outputs": []
    },
    {
      "cell_type": "code",
      "metadata": {
        "id": "u729GaHYmQvU",
        "colab_type": "code",
        "colab": {}
      },
      "source": [
        "\n",
        "\n",
        "local_zip = '/content/gdrive/My Drive/Kannada-MNIST.zip'\n",
        "\n",
        "zip_ref = zipfile.ZipFile(local_zip, 'r')\n",
        "\n",
        "zip_ref.extractall('/tmp')\n",
        "zip_ref.close()"
      ],
      "execution_count": null,
      "outputs": []
    },
    {
      "cell_type": "code",
      "metadata": {
        "id": "kwtppop4nHeQ",
        "colab_type": "code",
        "colab": {}
      },
      "source": [
        "\n",
        "pixels = []\n",
        "labels = []\n",
        "with open(\"/tmp/train.csv\", 'r') as csvfile:\n",
        "    reader = csv.reader(csvfile, delimiter=',')\n",
        "    next(reader)\n",
        "    for row in reader:\n",
        "        labels.append(row[0])\n",
        "        pixel = row[1:]\n",
        "        pixels.append(pixel)"
      ],
      "execution_count": null,
      "outputs": []
    },
    {
      "cell_type": "code",
      "metadata": {
        "id": "lKOqTyHKoW3U",
        "colab_type": "code",
        "colab": {
          "base_uri": "https://localhost:8080/",
          "height": 35
        },
        "outputId": "c4195ab7-ce23-4ae0-a425-75fbf16593de"
      },
      "source": [
        "np.array(pixels).shape"
      ],
      "execution_count": null,
      "outputs": [
        {
          "output_type": "execute_result",
          "data": {
            "text/plain": [
              "(60000, 784)"
            ]
          },
          "metadata": {
            "tags": []
          },
          "execution_count": 6
        }
      ]
    },
    {
      "cell_type": "code",
      "metadata": {
        "id": "5bV4S8GIpS31",
        "colab_type": "code",
        "colab": {}
      },
      "source": [
        "pixel2D = []\n",
        "for pixel in pixels:\n",
        "  pixel = np.array(pixel).reshape(28,28)\n",
        "  pixel2D.append(pixel)"
      ],
      "execution_count": null,
      "outputs": []
    },
    {
      "cell_type": "code",
      "metadata": {
        "id": "dUZX2OTMPhGy",
        "colab_type": "code",
        "colab": {
          "base_uri": "https://localhost:8080/",
          "height": 53
        },
        "outputId": "4bab9de1-d394-4a08-8678-2a4c33bdf691"
      },
      "source": [
        "x = np.expand_dims(labels,axis = -1)\n",
        "\n",
        "print(np.array(pixels).shape)\n",
        "z = np.concatenate((x,np.array(pixels)),axis = 1)\n",
        "np.array(z).shape"
      ],
      "execution_count": null,
      "outputs": [
        {
          "output_type": "stream",
          "text": [
            "(60000, 784)\n"
          ],
          "name": "stdout"
        },
        {
          "output_type": "execute_result",
          "data": {
            "text/plain": [
              "(60000, 785)"
            ]
          },
          "metadata": {
            "tags": []
          },
          "execution_count": 14
        }
      ]
    },
    {
      "cell_type": "code",
      "metadata": {
        "id": "qjpXLKOfetLZ",
        "colab_type": "code",
        "colab": {
          "base_uri": "https://localhost:8080/",
          "height": 35
        },
        "outputId": "845b5b00-2a11-4d21-e3c6-d24738cd8433"
      },
      "source": [
        "x.shape"
      ],
      "execution_count": null,
      "outputs": [
        {
          "output_type": "execute_result",
          "data": {
            "text/plain": [
              "(1, 60000)"
            ]
          },
          "metadata": {
            "tags": []
          },
          "execution_count": 13
        }
      ]
    },
    {
      "cell_type": "code",
      "metadata": {
        "id": "Cz3v5H56RAmq",
        "colab_type": "code",
        "colab": {}
      },
      "source": [
        "z = z.astype(\"int32\")"
      ],
      "execution_count": null,
      "outputs": []
    },
    {
      "cell_type": "code",
      "metadata": {
        "id": "C_0wjjd7p7l7",
        "colab_type": "code",
        "colab": {}
      },
      "source": [
        "labels = z[:,0]\n",
        "pixels = z[:,1:] \n"
      ],
      "execution_count": null,
      "outputs": []
    },
    {
      "cell_type": "code",
      "metadata": {
        "id": "0mHhPf3CTDsx",
        "colab_type": "code",
        "colab": {
          "base_uri": "https://localhost:8080/",
          "height": 35
        },
        "outputId": "43879ff9-c33f-4abb-f84b-6ea4708107b6"
      },
      "source": [
        "pixels.shape\n"
      ],
      "execution_count": null,
      "outputs": [
        {
          "output_type": "execute_result",
          "data": {
            "text/plain": [
              "(60000, 784)"
            ]
          },
          "metadata": {
            "tags": []
          },
          "execution_count": 17
        }
      ]
    },
    {
      "cell_type": "code",
      "metadata": {
        "id": "esm-eVRsqF-P",
        "colab_type": "code",
        "colab": {}
      },
      "source": [
        "pixel2D = []\n",
        "for pixel in pixels:\n",
        "  pixel = np.array(pixel).reshape(28,28)\n",
        "  pixel2D.append(pixel)"
      ],
      "execution_count": null,
      "outputs": []
    },
    {
      "cell_type": "code",
      "metadata": {
        "id": "lrAeKKTkqnxU",
        "colab_type": "code",
        "colab": {}
      },
      "source": [
        "training_images = pixel2D[0:55000]\n",
        "training_labels = labels[0:55000]\n",
        "validation_images = pixel2D[55000:]\n",
        "validation_labels = labels[55000:]"
      ],
      "execution_count": null,
      "outputs": []
    },
    {
      "cell_type": "code",
      "metadata": {
        "id": "hSnemK3gob2d",
        "colab_type": "code",
        "colab": {}
      },
      "source": [
        "\"\"\"training_labels = np.array(training_labels)\n",
        "validation_labels = np.array(validation_labels)\"\"\""
      ],
      "execution_count": null,
      "outputs": []
    },
    {
      "cell_type": "code",
      "metadata": {
        "id": "fHxWn6WXrTj0",
        "colab_type": "code",
        "colab": {}
      },
      "source": [
        "\"\"\"training_images = np.array(training_images)\n",
        "validation_images = np.array(validation_images)\"\"\""
      ],
      "execution_count": null,
      "outputs": []
    },
    {
      "cell_type": "code",
      "metadata": {
        "id": "30ydBbE7X4wp",
        "colab_type": "code",
        "colab": {}
      },
      "source": [
        "training_images = np.expand_dims(training_images,axis = -1)\n",
        "validation_images = np.expand_dims(validation_images,axis = -1)"
      ],
      "execution_count": null,
      "outputs": []
    },
    {
      "cell_type": "code",
      "metadata": {
        "id": "M_ztxYsUpCi8",
        "colab_type": "code",
        "colab": {
          "base_uri": "https://localhost:8080/",
          "height": 91
        },
        "outputId": "2e8f4645-8c2e-45c4-f537-8405f868be54"
      },
      "source": [
        "model = tf.keras.Sequential([\n",
        "   tf.keras.layers.Conv2D(64,(3,3),activation = \"relu\",input_shape  = (28,28,1)),\n",
        "    tf.keras.layers.MaxPooling2D(3,3),\n",
        "    tf.keras.layers.Conv2D(32,(3,3),activation = \"relu\"),\n",
        "    tf.keras.layers.Flatten(),\n",
        "    tf.keras.layers.Dense(64,activation = \"relu\"),\n",
        "    tf.keras.layers.Dense(32,activation = \"relu\"),\n",
        "    tf.keras.layers.Dense(10,activation = \"sigmoid\")\n",
        "])"
      ],
      "execution_count": null,
      "outputs": [
        {
          "output_type": "stream",
          "text": [
            "WARNING:tensorflow:From /usr/local/lib/python3.6/dist-packages/tensorflow/python/ops/init_ops.py:1251: calling VarianceScaling.__init__ (from tensorflow.python.ops.init_ops) with dtype is deprecated and will be removed in a future version.\n",
            "Instructions for updating:\n",
            "Call initializer instance with the dtype argument instead of passing it to the constructor\n"
          ],
          "name": "stdout"
        }
      ]
    },
    {
      "cell_type": "code",
      "metadata": {
        "id": "R85biD1NuTBs",
        "colab_type": "code",
        "colab": {}
      },
      "source": [
        "model.compile(loss = \"sparse_categorical_crossentropy\",optimizer = \"adam\",metrics = [\"accuracy\"]\n",
        "             )"
      ],
      "execution_count": null,
      "outputs": []
    },
    {
      "cell_type": "code",
      "metadata": {
        "id": "OPCRYIFSH815",
        "colab_type": "code",
        "colab": {
          "base_uri": "https://localhost:8080/",
          "height": 395
        },
        "outputId": "1dba444f-e8df-4cca-e9c6-bcb19e9f9440"
      },
      "source": [
        "history = model.fit(training_images,training_labels,epochs = 10,validation_data = [validation_images,validation_labels],shuffle = True,verbose = 1)"
      ],
      "execution_count": null,
      "outputs": [
        {
          "output_type": "stream",
          "text": [
            "Train on 55000 samples, validate on 5000 samples\n",
            "Epoch 1/10\n",
            "55000/55000 [==============================] - 6s 114us/sample - loss: 0.0195 - acc: 0.9953 - val_loss: 0.0276 - val_acc: 0.9948\n",
            "Epoch 2/10\n",
            "55000/55000 [==============================] - 6s 115us/sample - loss: 0.0319 - acc: 0.9935 - val_loss: 0.0322 - val_acc: 0.9940\n",
            "Epoch 3/10\n",
            "55000/55000 [==============================] - 6s 113us/sample - loss: 0.0257 - acc: 0.9942 - val_loss: 0.0253 - val_acc: 0.9958\n",
            "Epoch 4/10\n",
            "55000/55000 [==============================] - 6s 114us/sample - loss: 0.0286 - acc: 0.9942 - val_loss: 0.0386 - val_acc: 0.9950\n",
            "Epoch 5/10\n",
            "55000/55000 [==============================] - 6s 113us/sample - loss: 0.0300 - acc: 0.9931 - val_loss: 0.0638 - val_acc: 0.9920\n",
            "Epoch 6/10\n",
            "55000/55000 [==============================] - 6s 113us/sample - loss: 0.0269 - acc: 0.9935 - val_loss: 0.0483 - val_acc: 0.9942\n",
            "Epoch 7/10\n",
            "55000/55000 [==============================] - 6s 113us/sample - loss: 0.0379 - acc: 0.9919 - val_loss: 0.0271 - val_acc: 0.9954\n",
            "Epoch 8/10\n",
            "55000/55000 [==============================] - 6s 112us/sample - loss: 0.0527 - acc: 0.9881 - val_loss: 0.0481 - val_acc: 0.9934\n",
            "Epoch 9/10\n",
            "55000/55000 [==============================] - 6s 113us/sample - loss: 0.0422 - acc: 0.9919 - val_loss: 0.0519 - val_acc: 0.9888\n",
            "Epoch 10/10\n",
            "55000/55000 [==============================] - 6s 111us/sample - loss: 0.0530 - acc: 0.9901 - val_loss: 0.0556 - val_acc: 0.9916\n"
          ],
          "name": "stdout"
        }
      ]
    },
    {
      "cell_type": "code",
      "metadata": {
        "id": "60lhi3nDW0iX",
        "colab_type": "code",
        "colab": {
          "base_uri": "https://localhost:8080/",
          "height": 563
        },
        "outputId": "d665a418-fa03-4222-9bbc-7a155c60efba"
      },
      "source": [
        "#-----------------------------------------------------------\n",
        "# Retrieve a list of list results on training and test data\n",
        "# sets for each training epoch\n",
        "#-----------------------------------------------------------\n",
        "acc      = history.history[     'acc' ]\n",
        "val_acc  = history.history[ 'val_acc' ]\n",
        "loss     = history.history[    'loss' ]\n",
        "val_loss = history.history['val_loss' ]\n",
        "\n",
        "epochs   = range(len(acc)) # Get number of epochs\n",
        "\n",
        "#------------------------------------------------\n",
        "# Plot training and validation accuracy per epoch\n",
        "#------------------------------------------------\n",
        "plt.plot  ( epochs,     acc )\n",
        "plt.plot  ( epochs, val_acc )\n",
        "plt.title ('Training and validation accuracy')\n",
        "plt.figure()\n",
        "\n",
        "#------------------------------------------------\n",
        "# Plot training and validation loss per epoch\n",
        "#------------------------------------------------\n",
        "plt.plot  ( epochs,     loss )\n",
        "plt.plot  ( epochs, val_loss )\n",
        "plt.title ('Training and validation loss'   )"
      ],
      "execution_count": null,
      "outputs": [
        {
          "output_type": "execute_result",
          "data": {
            "text/plain": [
              "Text(0.5, 1.0, 'Training and validation loss')"
            ]
          },
          "metadata": {
            "tags": []
          },
          "execution_count": 24
        },
        {
          "output_type": "display_data",
          "data": {
            "image/png": "[encoded data removed]",
            "text/plain": [
              "<Figure size 432x288 with 1 Axes>"
            ]
          },
          "metadata": {
            "tags": []
          }
        },
        {
          "output_type": "display_data",
          "data": {
            "image/png": "[encoded data removed]",
            "text/plain": [
              "<Figure size 432x288 with 1 Axes>"
            ]
          },
          "metadata": {
            "tags": []
          }
        }
      ]
    },
    {
      "cell_type": "code",
      "metadata": {
        "id": "d8tRddctcdx-",
        "colab_type": "code",
        "colab": {}
      },
      "source": [
        "import os\n",
        "import signal\n",
        "os.kill(os.getpid(),signal.SIGKILL)"
      ],
      "execution_count": null,
      "outputs": []
    },
    {
      "cell_type": "code",
      "metadata": {
        "id": "zYhlhGljdslW",
        "colab_type": "code",
        "colab": {}
      },
      "source": [
        ""
      ],
      "execution_count": null,
      "outputs": []
    }
  ]
}